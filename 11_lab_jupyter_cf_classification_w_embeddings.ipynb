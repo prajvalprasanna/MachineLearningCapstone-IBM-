{
 "cells": [
  {
   "cell_type": "markdown",
   "metadata": {
    "id": "GkUUUeMo1R2w"
   },
   "source": [
    "<p style=\"text-align:center\">\n",
    "    <a href=\"https://skills.network/?utm_medium=Exinfluencer&utm_source=Exinfluencer&utm_content=000026UJ&utm_term=10006555&utm_id=NA-SkillsNetwork-Channel-SkillsNetworkCoursesIBMML321ENSkillsNetwork817-2022-01-01\" target=\"_blank\">\n",
    "    <img src=\"https://cf-courses-data.s3.us.cloud-object-storage.appdomain.cloud/assets/logos/SN_web_lightmode.png\" width=\"200\" alt=\"Skills Network Logo\">\n",
    "    </a>\n",
    "</p>\n"
   ]
  },
  {
   "cell_type": "markdown",
   "metadata": {
    "id": "CFfjxYCz1R20"
   },
   "source": [
    "# **Classification-based Rating Mode Prediction using Embedding Features**\n"
   ]
  },
  {
   "cell_type": "markdown",
   "metadata": {
    "id": "UqLSDIs31R21"
   },
   "source": [
    "Estimated time needed: **60** minutes\n"
   ]
  },
  {
   "cell_type": "markdown",
   "metadata": {
    "id": "4sy22MNQ1R21"
   },
   "source": [
    "In this lab, you have built regression models to predict numerical course ratings using the embedding feature vectors extracted from neural networks. We can also consider the prediction problem as a classification problem also using embedding features.\n"
   ]
  },
  {
   "cell_type": "markdown",
   "metadata": {
    "id": "SE7-3pnZ1R21"
   },
   "source": [
    "![](https://cf-courses-data.s3.us.cloud-object-storage.appdomain.cloud/IBM-ML321EN-SkillsNetwork/labs/module_4/images/rating_classification.png)\n"
   ]
  },
  {
   "cell_type": "markdown",
   "metadata": {
    "id": "b1iRSNV11R22"
   },
   "source": [
    "The workflow is very similar to our previous lab. We first extract two embedding matrices out of the neural network, and aggregate them to be a single interaction feature vector as input data `X`.\n",
    "\n",
    "This time, with the interaction label `Y` as categorical rating mode, we can build classification models to approximate the mapping from `X` to `Y`, as shown in the above flowchart.\n"
   ]
  },
  {
   "cell_type": "markdown",
   "metadata": {
    "id": "jP1nMcnX1R22"
   },
   "source": [
    "## Objectives\n"
   ]
  },
  {
   "cell_type": "markdown",
   "metadata": {
    "id": "axa1M3CP1R22"
   },
   "source": [
    "After completing this lab you will be able to:\n"
   ]
  },
  {
   "cell_type": "markdown",
   "metadata": {
    "id": "j08Avnss1R23"
   },
   "source": [
    "* Build classification models to predict rating modes using the combined embedding vectors\n"
   ]
  },
  {
   "cell_type": "markdown",
   "metadata": {
    "id": "aopt8-TU1R23"
   },
   "source": [
    "----\n"
   ]
  },
  {
   "cell_type": "markdown",
   "metadata": {
    "id": "9eMAjZoq1R23"
   },
   "source": [
    "## Prepare and setup lab environment\n"
   ]
  },
  {
   "cell_type": "markdown",
   "metadata": {
    "id": "HsIt-x631R24"
   },
   "source": [
    "First install and import required libraries:\n"
   ]
  },
  {
   "cell_type": "code",
   "execution_count": 21,
   "metadata": {
    "colab": {
     "base_uri": "https://localhost:8080/"
    },
    "executionInfo": {
     "elapsed": 18370,
     "status": "ok",
     "timestamp": 1725546761394,
     "user": {
      "displayName": "Prajval P",
      "userId": "15975654602815339991"
     },
     "user_tz": -330
    },
    "id": "CMG0VaMG1R24",
    "outputId": "6f75b2cc-e539-4c49-f1b1-d64fac35a302"
   },
   "outputs": [
    {
     "name": "stdout",
     "output_type": "stream",
     "text": [
      "Requirement already satisfied: scikit-learn in c:\\users\\prajv\\anaconda3\\lib\\site-packages (1.2.2)\n",
      "Requirement already satisfied: numpy>=1.17.3 in c:\\users\\prajv\\appdata\\roaming\\python\\python311\\site-packages (from scikit-learn) (1.24.4)\n",
      "Requirement already satisfied: scipy>=1.3.2 in c:\\users\\prajv\\anaconda3\\lib\\site-packages (from scikit-learn) (1.10.1)\n",
      "Requirement already satisfied: joblib>=1.1.1 in c:\\users\\prajv\\anaconda3\\lib\\site-packages (from scikit-learn) (1.2.0)\n",
      "Requirement already satisfied: threadpoolctl>=2.0.0 in c:\\users\\prajv\\anaconda3\\lib\\site-packages (from scikit-learn) (2.2.0)\n",
      "Note: you may need to restart the kernel to use updated packages.\n",
      "Requirement already satisfied: pandas in c:\\users\\prajv\\appdata\\roaming\\python\\python311\\site-packages (1.5.3)\n",
      "Requirement already satisfied: python-dateutil>=2.8.1 in c:\\users\\prajv\\appdata\\roaming\\python\\python311\\site-packages (from pandas) (2.9.0.post0)\n",
      "Requirement already satisfied: pytz>=2020.1 in c:\\users\\prajv\\appdata\\roaming\\python\\python311\\site-packages (from pandas) (2024.1)\n",
      "Requirement already satisfied: numpy>=1.21.0 in c:\\users\\prajv\\appdata\\roaming\\python\\python311\\site-packages (from pandas) (1.24.4)\n",
      "Requirement already satisfied: six>=1.5 in c:\\users\\prajv\\appdata\\roaming\\python\\python311\\site-packages (from python-dateutil>=2.8.1->pandas) (1.16.0)\n",
      "Note: you may need to restart the kernel to use updated packages.\n"
     ]
    }
   ],
   "source": [
    "%pip install scikit-learn\n",
    "%pip install pandas"
   ]
  },
  {
   "cell_type": "code",
   "execution_count": 22,
   "metadata": {
    "executionInfo": {
     "elapsed": 5,
     "status": "ok",
     "timestamp": 1725546761395,
     "user": {
      "displayName": "Prajval P",
      "userId": "15975654602815339991"
     },
     "user_tz": -330
    },
    "id": "CcCAnpzh1R25"
   },
   "outputs": [],
   "source": [
    "# also set a random state\n",
    "rs = 123"
   ]
  },
  {
   "cell_type": "code",
   "execution_count": 23,
   "metadata": {
    "executionInfo": {
     "elapsed": 2291,
     "status": "ok",
     "timestamp": 1725546763682,
     "user": {
      "displayName": "Prajval P",
      "userId": "15975654602815339991"
     },
     "user_tz": -330
    },
    "id": "JNPijII01R25"
   },
   "outputs": [],
   "source": [
    "import pandas as pd\n",
    "import numpy as np\n",
    "from sklearn.model_selection import train_test_split\n",
    "from sklearn.preprocessing import LabelEncoder\n",
    "from sklearn.metrics import accuracy_score, precision_recall_fscore_support, mean_squared_error\n",
    "from sklearn.linear_model import LogisticRegression\n",
    "from sklearn.ensemble import RandomForestClassifier"
   ]
  },
  {
   "cell_type": "markdown",
   "metadata": {
    "id": "Nd0AktTg1R25"
   },
   "source": [
    "### Load datasets\n"
   ]
  },
  {
   "cell_type": "code",
   "execution_count": 24,
   "metadata": {
    "executionInfo": {
     "elapsed": 5,
     "status": "ok",
     "timestamp": 1725546763683,
     "user": {
      "displayName": "Prajval P",
      "userId": "15975654602815339991"
     },
     "user_tz": -330
    },
    "id": "kEDNBzTV1R26"
   },
   "outputs": [],
   "source": [
    "rating_url = \"https://cf-courses-data.s3.us.cloud-object-storage.appdomain.cloud/IBMSkillsNetwork-ML0321EN-Coursera/labs/v2/module_3/ratings.csv\"\n",
    "user_emb_url = \"https://cf-courses-data.s3.us.cloud-object-storage.appdomain.cloud/IBM-ML321EN-SkillsNetwork/labs/datasets/user_embeddings.csv\"\n",
    "item_emb_url = \"https://cf-courses-data.s3.us.cloud-object-storage.appdomain.cloud/IBM-ML321EN-SkillsNetwork/labs/datasets/course_embeddings.csv\""
   ]
  },
  {
   "cell_type": "markdown",
   "metadata": {
    "id": "GR9MwiVk1R26"
   },
   "source": [
    "The first dataset is the rating dataset contains user-item interaction matrix\n"
   ]
  },
  {
   "cell_type": "code",
   "execution_count": 25,
   "metadata": {
    "executionInfo": {
     "elapsed": 773,
     "status": "ok",
     "timestamp": 1725546764452,
     "user": {
      "displayName": "Prajval P",
      "userId": "15975654602815339991"
     },
     "user_tz": -330
    },
    "id": "PBYRQKlh1R26"
   },
   "outputs": [],
   "source": [
    "rating_df = pd.read_csv(rating_url)"
   ]
  },
  {
   "cell_type": "code",
   "execution_count": 26,
   "metadata": {
    "colab": {
     "base_uri": "https://localhost:8080/",
     "height": 206
    },
    "executionInfo": {
     "elapsed": 8,
     "status": "ok",
     "timestamp": 1725546764452,
     "user": {
      "displayName": "Prajval P",
      "userId": "15975654602815339991"
     },
     "user_tz": -330
    },
    "id": "tjksgzXL1R26",
    "outputId": "6f139948-7863-4367-d070-0a1fa8f581f2"
   },
   "outputs": [
    {
     "data": {
      "text/html": [
       "<div>\n",
       "<style scoped>\n",
       "    .dataframe tbody tr th:only-of-type {\n",
       "        vertical-align: middle;\n",
       "    }\n",
       "\n",
       "    .dataframe tbody tr th {\n",
       "        vertical-align: top;\n",
       "    }\n",
       "\n",
       "    .dataframe thead th {\n",
       "        text-align: right;\n",
       "    }\n",
       "</style>\n",
       "<table border=\"1\" class=\"dataframe\">\n",
       "  <thead>\n",
       "    <tr style=\"text-align: right;\">\n",
       "      <th></th>\n",
       "      <th>user</th>\n",
       "      <th>item</th>\n",
       "      <th>rating</th>\n",
       "    </tr>\n",
       "  </thead>\n",
       "  <tbody>\n",
       "    <tr>\n",
       "      <th>0</th>\n",
       "      <td>1889878</td>\n",
       "      <td>CC0101EN</td>\n",
       "      <td>5</td>\n",
       "    </tr>\n",
       "    <tr>\n",
       "      <th>1</th>\n",
       "      <td>1342067</td>\n",
       "      <td>CL0101EN</td>\n",
       "      <td>3</td>\n",
       "    </tr>\n",
       "    <tr>\n",
       "      <th>2</th>\n",
       "      <td>1990814</td>\n",
       "      <td>ML0120ENv3</td>\n",
       "      <td>5</td>\n",
       "    </tr>\n",
       "    <tr>\n",
       "      <th>3</th>\n",
       "      <td>380098</td>\n",
       "      <td>BD0211EN</td>\n",
       "      <td>5</td>\n",
       "    </tr>\n",
       "    <tr>\n",
       "      <th>4</th>\n",
       "      <td>779563</td>\n",
       "      <td>DS0101EN</td>\n",
       "      <td>3</td>\n",
       "    </tr>\n",
       "  </tbody>\n",
       "</table>\n",
       "</div>"
      ],
      "text/plain": [
       "      user        item  rating\n",
       "0  1889878    CC0101EN       5\n",
       "1  1342067    CL0101EN       3\n",
       "2  1990814  ML0120ENv3       5\n",
       "3   380098    BD0211EN       5\n",
       "4   779563    DS0101EN       3"
      ]
     },
     "execution_count": 26,
     "metadata": {},
     "output_type": "execute_result"
    }
   ],
   "source": [
    "rating_df.head()"
   ]
  },
  {
   "cell_type": "markdown",
   "metadata": {
    "id": "vkOt9cWM1R26"
   },
   "source": [
    "As you can see from the above data, the user and item are just ids, let's substitute them with their embedding vectors\n"
   ]
  },
  {
   "cell_type": "code",
   "execution_count": 27,
   "metadata": {
    "executionInfo": {
     "elapsed": 1669,
     "status": "ok",
     "timestamp": 1725546766117,
     "user": {
      "displayName": "Prajval P",
      "userId": "15975654602815339991"
     },
     "user_tz": -330
    },
    "id": "kYMO6T2K1R26"
   },
   "outputs": [],
   "source": [
    "user_emb = pd.read_csv(user_emb_url)\n",
    "item_emb = pd.read_csv(item_emb_url)"
   ]
  },
  {
   "cell_type": "code",
   "execution_count": 28,
   "metadata": {
    "colab": {
     "base_uri": "https://localhost:8080/",
     "height": 206
    },
    "executionInfo": {
     "elapsed": 42,
     "status": "ok",
     "timestamp": 1725546766118,
     "user": {
      "displayName": "Prajval P",
      "userId": "15975654602815339991"
     },
     "user_tz": -330
    },
    "id": "r573nbax1R27",
    "outputId": "97b61fdd-4f0c-43a4-ce7f-b3899ca5a5f0"
   },
   "outputs": [
    {
     "data": {
      "text/html": [
       "<div>\n",
       "<style scoped>\n",
       "    .dataframe tbody tr th:only-of-type {\n",
       "        vertical-align: middle;\n",
       "    }\n",
       "\n",
       "    .dataframe tbody tr th {\n",
       "        vertical-align: top;\n",
       "    }\n",
       "\n",
       "    .dataframe thead th {\n",
       "        text-align: right;\n",
       "    }\n",
       "</style>\n",
       "<table border=\"1\" class=\"dataframe\">\n",
       "  <thead>\n",
       "    <tr style=\"text-align: right;\">\n",
       "      <th></th>\n",
       "      <th>user</th>\n",
       "      <th>UFeature0</th>\n",
       "      <th>UFeature1</th>\n",
       "      <th>UFeature2</th>\n",
       "      <th>UFeature3</th>\n",
       "      <th>UFeature4</th>\n",
       "      <th>UFeature5</th>\n",
       "      <th>UFeature6</th>\n",
       "      <th>UFeature7</th>\n",
       "      <th>UFeature8</th>\n",
       "      <th>UFeature9</th>\n",
       "      <th>UFeature10</th>\n",
       "      <th>UFeature11</th>\n",
       "      <th>UFeature12</th>\n",
       "      <th>UFeature13</th>\n",
       "      <th>UFeature14</th>\n",
       "      <th>UFeature15</th>\n",
       "    </tr>\n",
       "  </thead>\n",
       "  <tbody>\n",
       "    <tr>\n",
       "      <th>0</th>\n",
       "      <td>1889878</td>\n",
       "      <td>0.080721</td>\n",
       "      <td>-0.129561</td>\n",
       "      <td>0.087998</td>\n",
       "      <td>0.030231</td>\n",
       "      <td>0.082691</td>\n",
       "      <td>-0.004176</td>\n",
       "      <td>-0.003480</td>\n",
       "      <td>0.091464</td>\n",
       "      <td>-0.040247</td>\n",
       "      <td>0.018958</td>\n",
       "      <td>-0.153328</td>\n",
       "      <td>-0.090143</td>\n",
       "      <td>0.082830</td>\n",
       "      <td>-0.058721</td>\n",
       "      <td>0.057929</td>\n",
       "      <td>-0.001472</td>\n",
       "    </tr>\n",
       "    <tr>\n",
       "      <th>1</th>\n",
       "      <td>1342067</td>\n",
       "      <td>0.068047</td>\n",
       "      <td>-0.112781</td>\n",
       "      <td>0.045208</td>\n",
       "      <td>-0.007570</td>\n",
       "      <td>-0.038382</td>\n",
       "      <td>0.068037</td>\n",
       "      <td>0.114949</td>\n",
       "      <td>0.104128</td>\n",
       "      <td>-0.034401</td>\n",
       "      <td>0.004011</td>\n",
       "      <td>0.064832</td>\n",
       "      <td>0.165857</td>\n",
       "      <td>-0.004384</td>\n",
       "      <td>0.053257</td>\n",
       "      <td>0.014308</td>\n",
       "      <td>0.056684</td>\n",
       "    </tr>\n",
       "    <tr>\n",
       "      <th>2</th>\n",
       "      <td>1990814</td>\n",
       "      <td>0.124623</td>\n",
       "      <td>0.012910</td>\n",
       "      <td>-0.072627</td>\n",
       "      <td>0.049935</td>\n",
       "      <td>0.020158</td>\n",
       "      <td>0.133306</td>\n",
       "      <td>-0.035366</td>\n",
       "      <td>-0.156026</td>\n",
       "      <td>0.039269</td>\n",
       "      <td>0.042195</td>\n",
       "      <td>0.014695</td>\n",
       "      <td>-0.115989</td>\n",
       "      <td>0.031158</td>\n",
       "      <td>0.102021</td>\n",
       "      <td>-0.020601</td>\n",
       "      <td>0.116488</td>\n",
       "    </tr>\n",
       "    <tr>\n",
       "      <th>3</th>\n",
       "      <td>380098</td>\n",
       "      <td>-0.034870</td>\n",
       "      <td>0.000715</td>\n",
       "      <td>0.077406</td>\n",
       "      <td>0.070311</td>\n",
       "      <td>-0.043007</td>\n",
       "      <td>-0.035446</td>\n",
       "      <td>0.032846</td>\n",
       "      <td>-0.060944</td>\n",
       "      <td>0.112384</td>\n",
       "      <td>0.002114</td>\n",
       "      <td>0.090660</td>\n",
       "      <td>-0.068545</td>\n",
       "      <td>0.008967</td>\n",
       "      <td>0.063962</td>\n",
       "      <td>0.052347</td>\n",
       "      <td>0.018072</td>\n",
       "    </tr>\n",
       "    <tr>\n",
       "      <th>4</th>\n",
       "      <td>779563</td>\n",
       "      <td>0.106414</td>\n",
       "      <td>-0.001887</td>\n",
       "      <td>-0.017211</td>\n",
       "      <td>-0.042277</td>\n",
       "      <td>-0.074953</td>\n",
       "      <td>-0.056732</td>\n",
       "      <td>0.074610</td>\n",
       "      <td>-0.019367</td>\n",
       "      <td>-0.031341</td>\n",
       "      <td>0.064896</td>\n",
       "      <td>-0.048158</td>\n",
       "      <td>-0.047309</td>\n",
       "      <td>-0.007544</td>\n",
       "      <td>0.010474</td>\n",
       "      <td>-0.032287</td>\n",
       "      <td>-0.083983</td>\n",
       "    </tr>\n",
       "  </tbody>\n",
       "</table>\n",
       "</div>"
      ],
      "text/plain": [
       "      user  UFeature0  UFeature1  UFeature2  UFeature3  UFeature4  UFeature5  \\\n",
       "0  1889878   0.080721  -0.129561   0.087998   0.030231   0.082691  -0.004176   \n",
       "1  1342067   0.068047  -0.112781   0.045208  -0.007570  -0.038382   0.068037   \n",
       "2  1990814   0.124623   0.012910  -0.072627   0.049935   0.020158   0.133306   \n",
       "3   380098  -0.034870   0.000715   0.077406   0.070311  -0.043007  -0.035446   \n",
       "4   779563   0.106414  -0.001887  -0.017211  -0.042277  -0.074953  -0.056732   \n",
       "\n",
       "   UFeature6  UFeature7  UFeature8  UFeature9  UFeature10  UFeature11  \\\n",
       "0  -0.003480   0.091464  -0.040247   0.018958   -0.153328   -0.090143   \n",
       "1   0.114949   0.104128  -0.034401   0.004011    0.064832    0.165857   \n",
       "2  -0.035366  -0.156026   0.039269   0.042195    0.014695   -0.115989   \n",
       "3   0.032846  -0.060944   0.112384   0.002114    0.090660   -0.068545   \n",
       "4   0.074610  -0.019367  -0.031341   0.064896   -0.048158   -0.047309   \n",
       "\n",
       "   UFeature12  UFeature13  UFeature14  UFeature15  \n",
       "0    0.082830   -0.058721    0.057929   -0.001472  \n",
       "1   -0.004384    0.053257    0.014308    0.056684  \n",
       "2    0.031158    0.102021   -0.020601    0.116488  \n",
       "3    0.008967    0.063962    0.052347    0.018072  \n",
       "4   -0.007544    0.010474   -0.032287   -0.083983  "
      ]
     },
     "execution_count": 28,
     "metadata": {},
     "output_type": "execute_result"
    }
   ],
   "source": [
    "user_emb.head()"
   ]
  },
  {
   "cell_type": "code",
   "execution_count": 29,
   "metadata": {
    "colab": {
     "base_uri": "https://localhost:8080/",
     "height": 206
    },
    "executionInfo": {
     "elapsed": 41,
     "status": "ok",
     "timestamp": 1725546766119,
     "user": {
      "displayName": "Prajval P",
      "userId": "15975654602815339991"
     },
     "user_tz": -330
    },
    "id": "KSFm_I6r1R27",
    "outputId": "90017231-9e58-4576-f72a-64bef7a1dcb7"
   },
   "outputs": [
    {
     "data": {
      "text/html": [
       "<div>\n",
       "<style scoped>\n",
       "    .dataframe tbody tr th:only-of-type {\n",
       "        vertical-align: middle;\n",
       "    }\n",
       "\n",
       "    .dataframe tbody tr th {\n",
       "        vertical-align: top;\n",
       "    }\n",
       "\n",
       "    .dataframe thead th {\n",
       "        text-align: right;\n",
       "    }\n",
       "</style>\n",
       "<table border=\"1\" class=\"dataframe\">\n",
       "  <thead>\n",
       "    <tr style=\"text-align: right;\">\n",
       "      <th></th>\n",
       "      <th>item</th>\n",
       "      <th>CFeature0</th>\n",
       "      <th>CFeature1</th>\n",
       "      <th>CFeature2</th>\n",
       "      <th>CFeature3</th>\n",
       "      <th>CFeature4</th>\n",
       "      <th>CFeature5</th>\n",
       "      <th>CFeature6</th>\n",
       "      <th>CFeature7</th>\n",
       "      <th>CFeature8</th>\n",
       "      <th>CFeature9</th>\n",
       "      <th>CFeature10</th>\n",
       "      <th>CFeature11</th>\n",
       "      <th>CFeature12</th>\n",
       "      <th>CFeature13</th>\n",
       "      <th>CFeature14</th>\n",
       "      <th>CFeature15</th>\n",
       "    </tr>\n",
       "  </thead>\n",
       "  <tbody>\n",
       "    <tr>\n",
       "      <th>0</th>\n",
       "      <td>CC0101EN</td>\n",
       "      <td>0.009657</td>\n",
       "      <td>-0.005238</td>\n",
       "      <td>-0.004098</td>\n",
       "      <td>0.016303</td>\n",
       "      <td>-0.005274</td>\n",
       "      <td>-0.000361</td>\n",
       "      <td>-0.015081</td>\n",
       "      <td>-0.012229</td>\n",
       "      <td>0.015686</td>\n",
       "      <td>0.008401</td>\n",
       "      <td>-0.035495</td>\n",
       "      <td>0.009381</td>\n",
       "      <td>-0.032560</td>\n",
       "      <td>-0.007292</td>\n",
       "      <td>0.000966</td>\n",
       "      <td>-0.006218</td>\n",
       "    </tr>\n",
       "    <tr>\n",
       "      <th>1</th>\n",
       "      <td>CL0101EN</td>\n",
       "      <td>-0.008611</td>\n",
       "      <td>0.028041</td>\n",
       "      <td>0.021899</td>\n",
       "      <td>-0.001465</td>\n",
       "      <td>0.006900</td>\n",
       "      <td>-0.017981</td>\n",
       "      <td>0.010899</td>\n",
       "      <td>-0.037610</td>\n",
       "      <td>-0.019397</td>\n",
       "      <td>-0.025682</td>\n",
       "      <td>-0.000620</td>\n",
       "      <td>0.038803</td>\n",
       "      <td>0.000196</td>\n",
       "      <td>-0.045343</td>\n",
       "      <td>0.012863</td>\n",
       "      <td>0.019429</td>\n",
       "    </tr>\n",
       "    <tr>\n",
       "      <th>2</th>\n",
       "      <td>ML0120ENv3</td>\n",
       "      <td>0.027439</td>\n",
       "      <td>-0.027649</td>\n",
       "      <td>-0.007484</td>\n",
       "      <td>-0.059451</td>\n",
       "      <td>0.003972</td>\n",
       "      <td>0.020496</td>\n",
       "      <td>-0.012695</td>\n",
       "      <td>0.036138</td>\n",
       "      <td>0.019965</td>\n",
       "      <td>0.018686</td>\n",
       "      <td>-0.010450</td>\n",
       "      <td>-0.050011</td>\n",
       "      <td>0.013845</td>\n",
       "      <td>-0.044454</td>\n",
       "      <td>-0.001480</td>\n",
       "      <td>-0.007559</td>\n",
       "    </tr>\n",
       "    <tr>\n",
       "      <th>3</th>\n",
       "      <td>BD0211EN</td>\n",
       "      <td>0.020163</td>\n",
       "      <td>-0.011972</td>\n",
       "      <td>-0.003714</td>\n",
       "      <td>-0.015548</td>\n",
       "      <td>-0.007540</td>\n",
       "      <td>0.014847</td>\n",
       "      <td>-0.005700</td>\n",
       "      <td>-0.006068</td>\n",
       "      <td>-0.005792</td>\n",
       "      <td>-0.023036</td>\n",
       "      <td>0.015999</td>\n",
       "      <td>-0.023480</td>\n",
       "      <td>0.015469</td>\n",
       "      <td>0.022221</td>\n",
       "      <td>-0.023115</td>\n",
       "      <td>-0.001785</td>\n",
       "    </tr>\n",
       "    <tr>\n",
       "      <th>4</th>\n",
       "      <td>DS0101EN</td>\n",
       "      <td>0.006399</td>\n",
       "      <td>0.000492</td>\n",
       "      <td>0.005640</td>\n",
       "      <td>0.009639</td>\n",
       "      <td>-0.005487</td>\n",
       "      <td>-0.000590</td>\n",
       "      <td>-0.010015</td>\n",
       "      <td>-0.001514</td>\n",
       "      <td>-0.017598</td>\n",
       "      <td>0.003590</td>\n",
       "      <td>0.016799</td>\n",
       "      <td>0.002732</td>\n",
       "      <td>0.005162</td>\n",
       "      <td>0.015031</td>\n",
       "      <td>-0.000877</td>\n",
       "      <td>-0.021283</td>\n",
       "    </tr>\n",
       "  </tbody>\n",
       "</table>\n",
       "</div>"
      ],
      "text/plain": [
       "         item  CFeature0  CFeature1  CFeature2  CFeature3  CFeature4  \\\n",
       "0    CC0101EN   0.009657  -0.005238  -0.004098   0.016303  -0.005274   \n",
       "1    CL0101EN  -0.008611   0.028041   0.021899  -0.001465   0.006900   \n",
       "2  ML0120ENv3   0.027439  -0.027649  -0.007484  -0.059451   0.003972   \n",
       "3    BD0211EN   0.020163  -0.011972  -0.003714  -0.015548  -0.007540   \n",
       "4    DS0101EN   0.006399   0.000492   0.005640   0.009639  -0.005487   \n",
       "\n",
       "   CFeature5  CFeature6  CFeature7  CFeature8  CFeature9  CFeature10  \\\n",
       "0  -0.000361  -0.015081  -0.012229   0.015686   0.008401   -0.035495   \n",
       "1  -0.017981   0.010899  -0.037610  -0.019397  -0.025682   -0.000620   \n",
       "2   0.020496  -0.012695   0.036138   0.019965   0.018686   -0.010450   \n",
       "3   0.014847  -0.005700  -0.006068  -0.005792  -0.023036    0.015999   \n",
       "4  -0.000590  -0.010015  -0.001514  -0.017598   0.003590    0.016799   \n",
       "\n",
       "   CFeature11  CFeature12  CFeature13  CFeature14  CFeature15  \n",
       "0    0.009381   -0.032560   -0.007292    0.000966   -0.006218  \n",
       "1    0.038803    0.000196   -0.045343    0.012863    0.019429  \n",
       "2   -0.050011    0.013845   -0.044454   -0.001480   -0.007559  \n",
       "3   -0.023480    0.015469    0.022221   -0.023115   -0.001785  \n",
       "4    0.002732    0.005162    0.015031   -0.000877   -0.021283  "
      ]
     },
     "execution_count": 29,
     "metadata": {},
     "output_type": "execute_result"
    }
   ],
   "source": [
    "item_emb.head()"
   ]
  },
  {
   "cell_type": "code",
   "execution_count": 30,
   "metadata": {
    "executionInfo": {
     "elapsed": 37,
     "status": "ok",
     "timestamp": 1725546766119,
     "user": {
      "displayName": "Prajval P",
      "userId": "15975654602815339991"
     },
     "user_tz": -330
    },
    "id": "YM5l9YSW1R27"
   },
   "outputs": [],
   "source": [
    "# Merge user embedding features\n",
    "merged_df = pd.merge(rating_df, user_emb, how='left', left_on='user', right_on='user').fillna(0)\n",
    "# Merge course embedding features\n",
    "merged_df = pd.merge(merged_df, item_emb, how='left', left_on='item', right_on='item').fillna(0)"
   ]
  },
  {
   "cell_type": "code",
   "execution_count": 31,
   "metadata": {
    "colab": {
     "base_uri": "https://localhost:8080/",
     "height": 236
    },
    "executionInfo": {
     "elapsed": 36,
     "status": "ok",
     "timestamp": 1725546766119,
     "user": {
      "displayName": "Prajval P",
      "userId": "15975654602815339991"
     },
     "user_tz": -330
    },
    "id": "iu_E5whG1R28",
    "outputId": "60ea683d-412b-4878-deb0-5304788a366f"
   },
   "outputs": [
    {
     "data": {
      "text/html": [
       "<div>\n",
       "<style scoped>\n",
       "    .dataframe tbody tr th:only-of-type {\n",
       "        vertical-align: middle;\n",
       "    }\n",
       "\n",
       "    .dataframe tbody tr th {\n",
       "        vertical-align: top;\n",
       "    }\n",
       "\n",
       "    .dataframe thead th {\n",
       "        text-align: right;\n",
       "    }\n",
       "</style>\n",
       "<table border=\"1\" class=\"dataframe\">\n",
       "  <thead>\n",
       "    <tr style=\"text-align: right;\">\n",
       "      <th></th>\n",
       "      <th>user</th>\n",
       "      <th>item</th>\n",
       "      <th>rating</th>\n",
       "      <th>UFeature0</th>\n",
       "      <th>UFeature1</th>\n",
       "      <th>UFeature2</th>\n",
       "      <th>UFeature3</th>\n",
       "      <th>UFeature4</th>\n",
       "      <th>UFeature5</th>\n",
       "      <th>UFeature6</th>\n",
       "      <th>...</th>\n",
       "      <th>CFeature6</th>\n",
       "      <th>CFeature7</th>\n",
       "      <th>CFeature8</th>\n",
       "      <th>CFeature9</th>\n",
       "      <th>CFeature10</th>\n",
       "      <th>CFeature11</th>\n",
       "      <th>CFeature12</th>\n",
       "      <th>CFeature13</th>\n",
       "      <th>CFeature14</th>\n",
       "      <th>CFeature15</th>\n",
       "    </tr>\n",
       "  </thead>\n",
       "  <tbody>\n",
       "    <tr>\n",
       "      <th>0</th>\n",
       "      <td>1889878</td>\n",
       "      <td>CC0101EN</td>\n",
       "      <td>5</td>\n",
       "      <td>0.080721</td>\n",
       "      <td>-0.129561</td>\n",
       "      <td>0.087998</td>\n",
       "      <td>0.030231</td>\n",
       "      <td>0.082691</td>\n",
       "      <td>-0.004176</td>\n",
       "      <td>-0.003480</td>\n",
       "      <td>...</td>\n",
       "      <td>-0.015081</td>\n",
       "      <td>-0.012229</td>\n",
       "      <td>0.015686</td>\n",
       "      <td>0.008401</td>\n",
       "      <td>-0.035495</td>\n",
       "      <td>0.009381</td>\n",
       "      <td>-0.032560</td>\n",
       "      <td>-0.007292</td>\n",
       "      <td>0.000966</td>\n",
       "      <td>-0.006218</td>\n",
       "    </tr>\n",
       "    <tr>\n",
       "      <th>1</th>\n",
       "      <td>1342067</td>\n",
       "      <td>CL0101EN</td>\n",
       "      <td>3</td>\n",
       "      <td>0.068047</td>\n",
       "      <td>-0.112781</td>\n",
       "      <td>0.045208</td>\n",
       "      <td>-0.007570</td>\n",
       "      <td>-0.038382</td>\n",
       "      <td>0.068037</td>\n",
       "      <td>0.114949</td>\n",
       "      <td>...</td>\n",
       "      <td>0.010899</td>\n",
       "      <td>-0.037610</td>\n",
       "      <td>-0.019397</td>\n",
       "      <td>-0.025682</td>\n",
       "      <td>-0.000620</td>\n",
       "      <td>0.038803</td>\n",
       "      <td>0.000196</td>\n",
       "      <td>-0.045343</td>\n",
       "      <td>0.012863</td>\n",
       "      <td>0.019429</td>\n",
       "    </tr>\n",
       "    <tr>\n",
       "      <th>2</th>\n",
       "      <td>1990814</td>\n",
       "      <td>ML0120ENv3</td>\n",
       "      <td>5</td>\n",
       "      <td>0.124623</td>\n",
       "      <td>0.012910</td>\n",
       "      <td>-0.072627</td>\n",
       "      <td>0.049935</td>\n",
       "      <td>0.020158</td>\n",
       "      <td>0.133306</td>\n",
       "      <td>-0.035366</td>\n",
       "      <td>...</td>\n",
       "      <td>-0.012695</td>\n",
       "      <td>0.036138</td>\n",
       "      <td>0.019965</td>\n",
       "      <td>0.018686</td>\n",
       "      <td>-0.010450</td>\n",
       "      <td>-0.050011</td>\n",
       "      <td>0.013845</td>\n",
       "      <td>-0.044454</td>\n",
       "      <td>-0.001480</td>\n",
       "      <td>-0.007559</td>\n",
       "    </tr>\n",
       "    <tr>\n",
       "      <th>3</th>\n",
       "      <td>380098</td>\n",
       "      <td>BD0211EN</td>\n",
       "      <td>5</td>\n",
       "      <td>-0.034870</td>\n",
       "      <td>0.000715</td>\n",
       "      <td>0.077406</td>\n",
       "      <td>0.070311</td>\n",
       "      <td>-0.043007</td>\n",
       "      <td>-0.035446</td>\n",
       "      <td>0.032846</td>\n",
       "      <td>...</td>\n",
       "      <td>-0.005700</td>\n",
       "      <td>-0.006068</td>\n",
       "      <td>-0.005792</td>\n",
       "      <td>-0.023036</td>\n",
       "      <td>0.015999</td>\n",
       "      <td>-0.023480</td>\n",
       "      <td>0.015469</td>\n",
       "      <td>0.022221</td>\n",
       "      <td>-0.023115</td>\n",
       "      <td>-0.001785</td>\n",
       "    </tr>\n",
       "    <tr>\n",
       "      <th>4</th>\n",
       "      <td>779563</td>\n",
       "      <td>DS0101EN</td>\n",
       "      <td>3</td>\n",
       "      <td>0.106414</td>\n",
       "      <td>-0.001887</td>\n",
       "      <td>-0.017211</td>\n",
       "      <td>-0.042277</td>\n",
       "      <td>-0.074953</td>\n",
       "      <td>-0.056732</td>\n",
       "      <td>0.074610</td>\n",
       "      <td>...</td>\n",
       "      <td>-0.010015</td>\n",
       "      <td>-0.001514</td>\n",
       "      <td>-0.017598</td>\n",
       "      <td>0.003590</td>\n",
       "      <td>0.016799</td>\n",
       "      <td>0.002732</td>\n",
       "      <td>0.005162</td>\n",
       "      <td>0.015031</td>\n",
       "      <td>-0.000877</td>\n",
       "      <td>-0.021283</td>\n",
       "    </tr>\n",
       "  </tbody>\n",
       "</table>\n",
       "<p>5 rows × 35 columns</p>\n",
       "</div>"
      ],
      "text/plain": [
       "      user        item  rating  UFeature0  UFeature1  UFeature2  UFeature3  \\\n",
       "0  1889878    CC0101EN       5   0.080721  -0.129561   0.087998   0.030231   \n",
       "1  1342067    CL0101EN       3   0.068047  -0.112781   0.045208  -0.007570   \n",
       "2  1990814  ML0120ENv3       5   0.124623   0.012910  -0.072627   0.049935   \n",
       "3   380098    BD0211EN       5  -0.034870   0.000715   0.077406   0.070311   \n",
       "4   779563    DS0101EN       3   0.106414  -0.001887  -0.017211  -0.042277   \n",
       "\n",
       "   UFeature4  UFeature5  UFeature6  ...  CFeature6  CFeature7  CFeature8  \\\n",
       "0   0.082691  -0.004176  -0.003480  ...  -0.015081  -0.012229   0.015686   \n",
       "1  -0.038382   0.068037   0.114949  ...   0.010899  -0.037610  -0.019397   \n",
       "2   0.020158   0.133306  -0.035366  ...  -0.012695   0.036138   0.019965   \n",
       "3  -0.043007  -0.035446   0.032846  ...  -0.005700  -0.006068  -0.005792   \n",
       "4  -0.074953  -0.056732   0.074610  ...  -0.010015  -0.001514  -0.017598   \n",
       "\n",
       "   CFeature9  CFeature10  CFeature11  CFeature12  CFeature13  CFeature14  \\\n",
       "0   0.008401   -0.035495    0.009381   -0.032560   -0.007292    0.000966   \n",
       "1  -0.025682   -0.000620    0.038803    0.000196   -0.045343    0.012863   \n",
       "2   0.018686   -0.010450   -0.050011    0.013845   -0.044454   -0.001480   \n",
       "3  -0.023036    0.015999   -0.023480    0.015469    0.022221   -0.023115   \n",
       "4   0.003590    0.016799    0.002732    0.005162    0.015031   -0.000877   \n",
       "\n",
       "   CFeature15  \n",
       "0   -0.006218  \n",
       "1    0.019429  \n",
       "2   -0.007559  \n",
       "3   -0.001785  \n",
       "4   -0.021283  \n",
       "\n",
       "[5 rows x 35 columns]"
      ]
     },
     "execution_count": 31,
     "metadata": {},
     "output_type": "execute_result"
    }
   ],
   "source": [
    "merged_df.head()"
   ]
  },
  {
   "cell_type": "markdown",
   "metadata": {
    "id": "a8a1GFfH1R28"
   },
   "source": [
    "Each user's embedding features and each item's embedding features are added to the dataset. Next, we perform element-wise add the user features (the column labels starting with `UFeature`) and item features (the column labels starting with `CFeature`).\n"
   ]
  },
  {
   "cell_type": "code",
   "execution_count": 32,
   "metadata": {
    "colab": {
     "base_uri": "https://localhost:8080/",
     "height": 206
    },
    "executionInfo": {
     "elapsed": 33,
     "status": "ok",
     "timestamp": 1725546766119,
     "user": {
      "displayName": "Prajval P",
      "userId": "15975654602815339991"
     },
     "user_tz": -330
    },
    "id": "gjUBt4LD1R28",
    "outputId": "a32b7281-2e0d-4441-b5ad-323b22c50e80"
   },
   "outputs": [
    {
     "data": {
      "text/html": [
       "<div>\n",
       "<style scoped>\n",
       "    .dataframe tbody tr th:only-of-type {\n",
       "        vertical-align: middle;\n",
       "    }\n",
       "\n",
       "    .dataframe tbody tr th {\n",
       "        vertical-align: top;\n",
       "    }\n",
       "\n",
       "    .dataframe thead th {\n",
       "        text-align: right;\n",
       "    }\n",
       "</style>\n",
       "<table border=\"1\" class=\"dataframe\">\n",
       "  <thead>\n",
       "    <tr style=\"text-align: right;\">\n",
       "      <th></th>\n",
       "      <th>Feature0</th>\n",
       "      <th>Feature1</th>\n",
       "      <th>Feature2</th>\n",
       "      <th>Feature3</th>\n",
       "      <th>Feature4</th>\n",
       "      <th>Feature5</th>\n",
       "      <th>Feature6</th>\n",
       "      <th>Feature7</th>\n",
       "      <th>Feature8</th>\n",
       "      <th>Feature9</th>\n",
       "      <th>Feature10</th>\n",
       "      <th>Feature11</th>\n",
       "      <th>Feature12</th>\n",
       "      <th>Feature13</th>\n",
       "      <th>Feature14</th>\n",
       "      <th>Feature15</th>\n",
       "      <th>rating</th>\n",
       "    </tr>\n",
       "  </thead>\n",
       "  <tbody>\n",
       "    <tr>\n",
       "      <th>0</th>\n",
       "      <td>0.090378</td>\n",
       "      <td>-0.134799</td>\n",
       "      <td>0.083900</td>\n",
       "      <td>0.046534</td>\n",
       "      <td>0.077417</td>\n",
       "      <td>-0.004537</td>\n",
       "      <td>-0.018561</td>\n",
       "      <td>0.079236</td>\n",
       "      <td>-0.024561</td>\n",
       "      <td>0.027359</td>\n",
       "      <td>-0.188823</td>\n",
       "      <td>-0.080762</td>\n",
       "      <td>0.050271</td>\n",
       "      <td>-0.066013</td>\n",
       "      <td>0.058894</td>\n",
       "      <td>-0.007689</td>\n",
       "      <td>5</td>\n",
       "    </tr>\n",
       "    <tr>\n",
       "      <th>1</th>\n",
       "      <td>0.059437</td>\n",
       "      <td>-0.084740</td>\n",
       "      <td>0.067107</td>\n",
       "      <td>-0.009036</td>\n",
       "      <td>-0.031482</td>\n",
       "      <td>0.050057</td>\n",
       "      <td>0.125847</td>\n",
       "      <td>0.066517</td>\n",
       "      <td>-0.053798</td>\n",
       "      <td>-0.021671</td>\n",
       "      <td>0.064212</td>\n",
       "      <td>0.204660</td>\n",
       "      <td>-0.004188</td>\n",
       "      <td>0.007914</td>\n",
       "      <td>0.027170</td>\n",
       "      <td>0.076114</td>\n",
       "      <td>3</td>\n",
       "    </tr>\n",
       "    <tr>\n",
       "      <th>2</th>\n",
       "      <td>0.152061</td>\n",
       "      <td>-0.014739</td>\n",
       "      <td>-0.080112</td>\n",
       "      <td>-0.009516</td>\n",
       "      <td>0.024130</td>\n",
       "      <td>0.153802</td>\n",
       "      <td>-0.048061</td>\n",
       "      <td>-0.119888</td>\n",
       "      <td>0.059234</td>\n",
       "      <td>0.060882</td>\n",
       "      <td>0.004244</td>\n",
       "      <td>-0.166000</td>\n",
       "      <td>0.045002</td>\n",
       "      <td>0.057566</td>\n",
       "      <td>-0.022081</td>\n",
       "      <td>0.108929</td>\n",
       "      <td>5</td>\n",
       "    </tr>\n",
       "    <tr>\n",
       "      <th>3</th>\n",
       "      <td>-0.014707</td>\n",
       "      <td>-0.011257</td>\n",
       "      <td>0.073692</td>\n",
       "      <td>0.054763</td>\n",
       "      <td>-0.050547</td>\n",
       "      <td>-0.020599</td>\n",
       "      <td>0.027146</td>\n",
       "      <td>-0.067012</td>\n",
       "      <td>0.106593</td>\n",
       "      <td>-0.020921</td>\n",
       "      <td>0.106658</td>\n",
       "      <td>-0.092025</td>\n",
       "      <td>0.024436</td>\n",
       "      <td>0.086183</td>\n",
       "      <td>0.029232</td>\n",
       "      <td>0.016287</td>\n",
       "      <td>5</td>\n",
       "    </tr>\n",
       "    <tr>\n",
       "      <th>4</th>\n",
       "      <td>0.112812</td>\n",
       "      <td>-0.001395</td>\n",
       "      <td>-0.011572</td>\n",
       "      <td>-0.032638</td>\n",
       "      <td>-0.080440</td>\n",
       "      <td>-0.057321</td>\n",
       "      <td>0.064595</td>\n",
       "      <td>-0.020880</td>\n",
       "      <td>-0.048939</td>\n",
       "      <td>0.068486</td>\n",
       "      <td>-0.031359</td>\n",
       "      <td>-0.044577</td>\n",
       "      <td>-0.002381</td>\n",
       "      <td>0.025505</td>\n",
       "      <td>-0.033164</td>\n",
       "      <td>-0.105266</td>\n",
       "      <td>3</td>\n",
       "    </tr>\n",
       "  </tbody>\n",
       "</table>\n",
       "</div>"
      ],
      "text/plain": [
       "   Feature0  Feature1  Feature2  Feature3  Feature4  Feature5  Feature6  \\\n",
       "0  0.090378 -0.134799  0.083900  0.046534  0.077417 -0.004537 -0.018561   \n",
       "1  0.059437 -0.084740  0.067107 -0.009036 -0.031482  0.050057  0.125847   \n",
       "2  0.152061 -0.014739 -0.080112 -0.009516  0.024130  0.153802 -0.048061   \n",
       "3 -0.014707 -0.011257  0.073692  0.054763 -0.050547 -0.020599  0.027146   \n",
       "4  0.112812 -0.001395 -0.011572 -0.032638 -0.080440 -0.057321  0.064595   \n",
       "\n",
       "   Feature7  Feature8  Feature9  Feature10  Feature11  Feature12  Feature13  \\\n",
       "0  0.079236 -0.024561  0.027359  -0.188823  -0.080762   0.050271  -0.066013   \n",
       "1  0.066517 -0.053798 -0.021671   0.064212   0.204660  -0.004188   0.007914   \n",
       "2 -0.119888  0.059234  0.060882   0.004244  -0.166000   0.045002   0.057566   \n",
       "3 -0.067012  0.106593 -0.020921   0.106658  -0.092025   0.024436   0.086183   \n",
       "4 -0.020880 -0.048939  0.068486  -0.031359  -0.044577  -0.002381   0.025505   \n",
       "\n",
       "   Feature14  Feature15  rating  \n",
       "0   0.058894  -0.007689       5  \n",
       "1   0.027170   0.076114       3  \n",
       "2  -0.022081   0.108929       5  \n",
       "3   0.029232   0.016287       5  \n",
       "4  -0.033164  -0.105266       3  "
      ]
     },
     "execution_count": 32,
     "metadata": {},
     "output_type": "execute_result"
    }
   ],
   "source": [
    "u_feautres = [f\"UFeature{i}\" for i in range(16)] # Assuming there are 16 user embedding features\n",
    "c_features = [f\"CFeature{i}\" for i in range(16)] # Assuming there are 16 course embedding features\n",
    "# Extract user embedding features\n",
    "user_embeddings = merged_df[u_feautres]\n",
    "# Extract course embedding features\n",
    "course_embeddings = merged_df[c_features]\n",
    "# Extract ratings\n",
    "ratings = merged_df['rating']\n",
    "\n",
    "# Aggregate the two feature columns using element-wise add\n",
    "interaction_dataset = user_embeddings + course_embeddings.values\n",
    "# Rename the columns of the resulting DataFrame\n",
    "interaction_dataset.columns = [f\"Feature{i}\" for i in range(16)]\n",
    "# Add the 'rating' column from the original DataFrame to the regression dataset\n",
    "interaction_dataset['rating'] = ratings\n",
    "# Display the first few rows of the regression dataset\n",
    "interaction_dataset.head()"
   ]
  },
  {
   "cell_type": "markdown",
   "metadata": {
    "id": "xIZvLJnJ1R28"
   },
   "source": [
    "Next, let's use `LabelEncoder()` to encode our `rating` label to be categorical:\n"
   ]
  },
  {
   "cell_type": "code",
   "execution_count": 33,
   "metadata": {
    "executionInfo": {
     "elapsed": 551,
     "status": "ok",
     "timestamp": 1725546766639,
     "user": {
      "displayName": "Prajval P",
      "userId": "15975654602815339991"
     },
     "user_tz": -330
    },
    "id": "N-GT8RET1R29"
   },
   "outputs": [],
   "source": [
    "# Extract features (X) from the interaction_dataset DataFrame\n",
    "# Selects all rows and all columns except the last column (features)\n",
    "X = interaction_dataset.iloc[:, :-1]\n",
    "# Extract the target variable (y_raw) from the interaction_dataset DataFrame\n",
    "# Selects all rows and only the last column (target variable)\n",
    "y_raw = interaction_dataset.iloc[:, -1]\n",
    "# Initialize a LabelEncoder object to encode the target variable\n",
    "label_encoder = LabelEncoder()\n",
    "# Encode the target variable (y_raw) using the LabelEncoder\n",
    "# .values.ravel() converts the target variable to a flattened array before encoding\n",
    "# The LabelEncoder fits and transforms the target variable, assigning encoded labels to y\n",
    "y = label_encoder.fit_transform(y_raw.values.ravel())"
   ]
  },
  {
   "cell_type": "markdown",
   "metadata": {
    "id": "owYnt1tS1R29"
   },
   "source": [
    "and split X and y into training and testing dataset:\n"
   ]
  },
  {
   "cell_type": "code",
   "execution_count": 34,
   "metadata": {
    "executionInfo": {
     "elapsed": 16,
     "status": "ok",
     "timestamp": 1725546766640,
     "user": {
      "displayName": "Prajval P",
      "userId": "15975654602815339991"
     },
     "user_tz": -330
    },
    "id": "0RahIEMl1R2-"
   },
   "outputs": [],
   "source": [
    "X_train, X_test, y_train, y_test = train_test_split(X, y, test_size=0.2, random_state=rs)"
   ]
  },
  {
   "cell_type": "code",
   "execution_count": 35,
   "metadata": {
    "colab": {
     "base_uri": "https://localhost:8080/"
    },
    "executionInfo": {
     "elapsed": 14,
     "status": "ok",
     "timestamp": 1725546766640,
     "user": {
      "displayName": "Prajval P",
      "userId": "15975654602815339991"
     },
     "user_tz": -330
    },
    "id": "8QKLzW-T1R2-",
    "outputId": "9c27f168-51d0-4019-d861-fa9b991115f6"
   },
   "outputs": [
    {
     "name": "stdout",
     "output_type": "stream",
     "text": [
      "Input data shape: (233306, 16), Output data shape: (233306,)\n"
     ]
    }
   ],
   "source": [
    "print(f\"Input data shape: {X.shape}, Output data shape: {y.shape}\")"
   ]
  },
  {
   "cell_type": "markdown",
   "metadata": {
    "id": "TneenSwR1R2_"
   },
   "source": [
    "## TASK: Perform classification tasks on the interaction dataset\n"
   ]
  },
  {
   "cell_type": "markdown",
   "metadata": {
    "id": "lkXrgV6s1R2_"
   },
   "source": [
    "Now our input data `X` and output label `y` is ready, let's build classification models to map `X` to `y`\n"
   ]
  },
  {
   "cell_type": "markdown",
   "metadata": {
    "id": "zodgH1FR1R2_"
   },
   "source": [
    "You may use `sklearn` to train and evaluate various regression models.\n"
   ]
  },
  {
   "cell_type": "markdown",
   "metadata": {
    "id": "YfDrtz2W1R3A"
   },
   "source": [
    "_TODO: Define classification models such as Logistic Regression, Tree models, SVM, Bagging, and Boosting models_\n"
   ]
  },
  {
   "cell_type": "code",
   "execution_count": 36,
   "metadata": {
    "executionInfo": {
     "elapsed": 6,
     "status": "ok",
     "timestamp": 1725546766640,
     "user": {
      "displayName": "Prajval P",
      "userId": "15975654602815339991"
     },
     "user_tz": -330
    },
    "id": "3d-J2RR_1R3A"
   },
   "outputs": [],
   "source": [
    "from sklearn.model_selection import GridSearchCV\n",
    "from sklearn.linear_model import LogisticRegression\n",
    "from sklearn.ensemble import RandomForestClassifier\n",
    "from sklearn.svm import SVC\n",
    "from sklearn.ensemble import BaggingClassifier\n",
    "from sklearn.ensemble import GradientBoostingClassifier"
   ]
  },
  {
   "cell_type": "code",
   "execution_count": 37,
   "metadata": {
    "colab": {
     "base_uri": "https://localhost:8080/"
    },
    "executionInfo": {
     "elapsed": 14343,
     "status": "ok",
     "timestamp": 1725546780978,
     "user": {
      "displayName": "Prajval P",
      "userId": "15975654602815339991"
     },
     "user_tz": -330
    },
    "id": "N7KPRkDi1R3A",
    "jupyter": {
     "outputs_hidden": true
    },
    "outputId": "22aa0d0a-455a-4791-b90a-d7a13791078e",
    "scrolled": true
   },
   "outputs": [
    {
     "name": "stdout",
     "output_type": "stream",
     "text": [
      "LogisticRegression(penalty='l1', random_state=123, solver='liblinear')\n"
     ]
    }
   ],
   "source": [
    "### WRITE YOUR CODE HERE\n",
    "\n",
    "lr_model = LogisticRegression(random_state=rs)\n",
    "\n",
    "lr_params = {\n",
    "    'penalty': ['l2', 'l1'],\n",
    "    'C': [0.1, 1.0],\n",
    "    'solver': ['liblinear']\n",
    "}\n",
    "\n",
    "lr_model_cv = GridSearchCV(lr_model, param_grid=lr_params, cv=3)\n",
    "lr_model_cv.fit(X_train, y_train)\n",
    "print(lr_model_cv.best_estimator_)"
   ]
  },
  {
   "cell_type": "code",
   "execution_count": 38,
   "metadata": {
    "colab": {
     "base_uri": "https://localhost:8080/"
    },
    "executionInfo": {
     "elapsed": 272520,
     "status": "ok",
     "timestamp": 1725547053465,
     "user": {
      "displayName": "Prajval P",
      "userId": "15975654602815339991"
     },
     "user_tz": -330
    },
    "id": "apN3NtG91R3B",
    "outputId": "abfd17d9-33e2-4de5-ff57-f164e87b104d"
   },
   "outputs": [
    {
     "name": "stdout",
     "output_type": "stream",
     "text": [
      "RandomForestClassifier(max_depth=10, n_estimators=50, random_state=123)\n"
     ]
    }
   ],
   "source": [
    "rf_model = RandomForestClassifier(random_state=rs)\n",
    "\n",
    "rf_params = {\n",
    "    'n_estimators': [50],\n",
    "    'criterion': ['gini'],\n",
    "    'max_depth': [10],\n",
    "    'min_samples_split': [2],\n",
    "    'min_samples_leaf': [1, 2],\n",
    "}\n",
    "\n",
    "rf_model_cv = GridSearchCV(rf_model, param_grid=rf_params, cv=3)\n",
    "rf_model_cv.fit(X_train, y_train)\n",
    "print(rf_model_cv.best_estimator_)"
   ]
  },
  {
   "cell_type": "code",
   "execution_count": null,
   "metadata": {
    "id": "hprHVeCd1R3B"
   },
   "outputs": [],
   "source": [
    "svm_model = SVC(random_state=rs)\n",
    "\n",
    "svm_params = {\n",
    "    'C': [0.1, 1],\n",
    "    'kernel': ['linear', 'rbf'],\n",
    "    'gamma': ['scale']\n",
    "}\n",
    "\n",
    "svm_model_cv = GridSearchCV(svm_model,  param_grid=svm_params, cv=3)\n",
    "svm_model_cv.fit(X_train, y_train)\n",
    "print(svm_model_cv.best_estimator_)"
   ]
  },
  {
   "cell_type": "code",
   "execution_count": 39,
   "metadata": {
    "id": "DmB2w_hA1R3B"
   },
   "outputs": [
    {
     "name": "stdout",
     "output_type": "stream",
     "text": [
      "BaggingClassifier(max_features=0.5, max_samples=0.5, random_state=123)\n"
     ]
    }
   ],
   "source": [
    "bg_model = BaggingClassifier(random_state=rs)\n",
    "\n",
    "bg_params = {\n",
    "    'n_estimators': [10],\n",
    "    'max_samples': [0.5],\n",
    "    'max_features': [0.5, 1.0],\n",
    "    'bootstrap': [True]\n",
    "}\n",
    "\n",
    "bg_model_cv = GridSearchCV(bg_model, param_grid=bg_params, cv=3)\n",
    "bg_model_cv.fit(X_train, y_train)\n",
    "print(bg_model_cv.best_estimator_)"
   ]
  },
  {
   "cell_type": "code",
   "execution_count": 20,
   "metadata": {
    "id": "eJ2yUOdv1R3C"
   },
   "outputs": [
    {
     "ename": "KeyboardInterrupt",
     "evalue": "",
     "output_type": "error",
     "traceback": [
      "\u001b[1;31m---------------------------------------------------------------------------\u001b[0m",
      "\u001b[1;31mKeyboardInterrupt\u001b[0m                         Traceback (most recent call last)",
      "Cell \u001b[1;32mIn[20], line 9\u001b[0m\n\u001b[0;32m      3\u001b[0m boost_params \u001b[38;5;241m=\u001b[39m {\n\u001b[0;32m      4\u001b[0m     \u001b[38;5;124m'\u001b[39m\u001b[38;5;124mn_estimators\u001b[39m\u001b[38;5;124m'\u001b[39m: [\u001b[38;5;241m50\u001b[39m],\n\u001b[0;32m      5\u001b[0m     \u001b[38;5;124m'\u001b[39m\u001b[38;5;124mlearning_rate\u001b[39m\u001b[38;5;124m'\u001b[39m: [\u001b[38;5;241m0.01\u001b[39m]\n\u001b[0;32m      6\u001b[0m }\n\u001b[0;32m      8\u001b[0m boost_model_cv \u001b[38;5;241m=\u001b[39m GridSearchCV(boost_model, param_grid\u001b[38;5;241m=\u001b[39mboost_params, cv\u001b[38;5;241m=\u001b[39m\u001b[38;5;241m3\u001b[39m)\n\u001b[1;32m----> 9\u001b[0m boost_model_cv\u001b[38;5;241m.\u001b[39mfit(X_train, y_train)\n\u001b[0;32m     10\u001b[0m \u001b[38;5;28mprint\u001b[39m(boost_model_cv\u001b[38;5;241m.\u001b[39mbest_estimator_)\n",
      "File \u001b[1;32m~\\anaconda3\\Lib\\site-packages\\sklearn\\model_selection\\_search.py:874\u001b[0m, in \u001b[0;36mBaseSearchCV.fit\u001b[1;34m(self, X, y, groups, **fit_params)\u001b[0m\n\u001b[0;32m    868\u001b[0m     results \u001b[38;5;241m=\u001b[39m \u001b[38;5;28mself\u001b[39m\u001b[38;5;241m.\u001b[39m_format_results(\n\u001b[0;32m    869\u001b[0m         all_candidate_params, n_splits, all_out, all_more_results\n\u001b[0;32m    870\u001b[0m     )\n\u001b[0;32m    872\u001b[0m     \u001b[38;5;28;01mreturn\u001b[39;00m results\n\u001b[1;32m--> 874\u001b[0m \u001b[38;5;28mself\u001b[39m\u001b[38;5;241m.\u001b[39m_run_search(evaluate_candidates)\n\u001b[0;32m    876\u001b[0m \u001b[38;5;66;03m# multimetric is determined here because in the case of a callable\u001b[39;00m\n\u001b[0;32m    877\u001b[0m \u001b[38;5;66;03m# self.scoring the return type is only known after calling\u001b[39;00m\n\u001b[0;32m    878\u001b[0m first_test_score \u001b[38;5;241m=\u001b[39m all_out[\u001b[38;5;241m0\u001b[39m][\u001b[38;5;124m\"\u001b[39m\u001b[38;5;124mtest_scores\u001b[39m\u001b[38;5;124m\"\u001b[39m]\n",
      "File \u001b[1;32m~\\anaconda3\\Lib\\site-packages\\sklearn\\model_selection\\_search.py:1388\u001b[0m, in \u001b[0;36mGridSearchCV._run_search\u001b[1;34m(self, evaluate_candidates)\u001b[0m\n\u001b[0;32m   1386\u001b[0m \u001b[38;5;28;01mdef\u001b[39;00m \u001b[38;5;21m_run_search\u001b[39m(\u001b[38;5;28mself\u001b[39m, evaluate_candidates):\n\u001b[0;32m   1387\u001b[0m \u001b[38;5;250m    \u001b[39m\u001b[38;5;124;03m\"\"\"Search all candidates in param_grid\"\"\"\u001b[39;00m\n\u001b[1;32m-> 1388\u001b[0m     evaluate_candidates(ParameterGrid(\u001b[38;5;28mself\u001b[39m\u001b[38;5;241m.\u001b[39mparam_grid))\n",
      "File \u001b[1;32m~\\anaconda3\\Lib\\site-packages\\sklearn\\model_selection\\_search.py:821\u001b[0m, in \u001b[0;36mBaseSearchCV.fit.<locals>.evaluate_candidates\u001b[1;34m(candidate_params, cv, more_results)\u001b[0m\n\u001b[0;32m    813\u001b[0m \u001b[38;5;28;01mif\u001b[39;00m \u001b[38;5;28mself\u001b[39m\u001b[38;5;241m.\u001b[39mverbose \u001b[38;5;241m>\u001b[39m \u001b[38;5;241m0\u001b[39m:\n\u001b[0;32m    814\u001b[0m     \u001b[38;5;28mprint\u001b[39m(\n\u001b[0;32m    815\u001b[0m         \u001b[38;5;124m\"\u001b[39m\u001b[38;5;124mFitting \u001b[39m\u001b[38;5;132;01m{0}\u001b[39;00m\u001b[38;5;124m folds for each of \u001b[39m\u001b[38;5;132;01m{1}\u001b[39;00m\u001b[38;5;124m candidates,\u001b[39m\u001b[38;5;124m\"\u001b[39m\n\u001b[0;32m    816\u001b[0m         \u001b[38;5;124m\"\u001b[39m\u001b[38;5;124m totalling \u001b[39m\u001b[38;5;132;01m{2}\u001b[39;00m\u001b[38;5;124m fits\u001b[39m\u001b[38;5;124m\"\u001b[39m\u001b[38;5;241m.\u001b[39mformat(\n\u001b[0;32m    817\u001b[0m             n_splits, n_candidates, n_candidates \u001b[38;5;241m*\u001b[39m n_splits\n\u001b[0;32m    818\u001b[0m         )\n\u001b[0;32m    819\u001b[0m     )\n\u001b[1;32m--> 821\u001b[0m out \u001b[38;5;241m=\u001b[39m parallel(\n\u001b[0;32m    822\u001b[0m     delayed(_fit_and_score)(\n\u001b[0;32m    823\u001b[0m         clone(base_estimator),\n\u001b[0;32m    824\u001b[0m         X,\n\u001b[0;32m    825\u001b[0m         y,\n\u001b[0;32m    826\u001b[0m         train\u001b[38;5;241m=\u001b[39mtrain,\n\u001b[0;32m    827\u001b[0m         test\u001b[38;5;241m=\u001b[39mtest,\n\u001b[0;32m    828\u001b[0m         parameters\u001b[38;5;241m=\u001b[39mparameters,\n\u001b[0;32m    829\u001b[0m         split_progress\u001b[38;5;241m=\u001b[39m(split_idx, n_splits),\n\u001b[0;32m    830\u001b[0m         candidate_progress\u001b[38;5;241m=\u001b[39m(cand_idx, n_candidates),\n\u001b[0;32m    831\u001b[0m         \u001b[38;5;241m*\u001b[39m\u001b[38;5;241m*\u001b[39mfit_and_score_kwargs,\n\u001b[0;32m    832\u001b[0m     )\n\u001b[0;32m    833\u001b[0m     \u001b[38;5;28;01mfor\u001b[39;00m (cand_idx, parameters), (split_idx, (train, test)) \u001b[38;5;129;01min\u001b[39;00m product(\n\u001b[0;32m    834\u001b[0m         \u001b[38;5;28menumerate\u001b[39m(candidate_params), \u001b[38;5;28menumerate\u001b[39m(cv\u001b[38;5;241m.\u001b[39msplit(X, y, groups))\n\u001b[0;32m    835\u001b[0m     )\n\u001b[0;32m    836\u001b[0m )\n\u001b[0;32m    838\u001b[0m \u001b[38;5;28;01mif\u001b[39;00m \u001b[38;5;28mlen\u001b[39m(out) \u001b[38;5;241m<\u001b[39m \u001b[38;5;241m1\u001b[39m:\n\u001b[0;32m    839\u001b[0m     \u001b[38;5;28;01mraise\u001b[39;00m \u001b[38;5;167;01mValueError\u001b[39;00m(\n\u001b[0;32m    840\u001b[0m         \u001b[38;5;124m\"\u001b[39m\u001b[38;5;124mNo fits were performed. \u001b[39m\u001b[38;5;124m\"\u001b[39m\n\u001b[0;32m    841\u001b[0m         \u001b[38;5;124m\"\u001b[39m\u001b[38;5;124mWas the CV iterator empty? \u001b[39m\u001b[38;5;124m\"\u001b[39m\n\u001b[0;32m    842\u001b[0m         \u001b[38;5;124m\"\u001b[39m\u001b[38;5;124mWere there no candidates?\u001b[39m\u001b[38;5;124m\"\u001b[39m\n\u001b[0;32m    843\u001b[0m     )\n",
      "File \u001b[1;32m~\\anaconda3\\Lib\\site-packages\\sklearn\\utils\\parallel.py:63\u001b[0m, in \u001b[0;36mParallel.__call__\u001b[1;34m(self, iterable)\u001b[0m\n\u001b[0;32m     58\u001b[0m config \u001b[38;5;241m=\u001b[39m get_config()\n\u001b[0;32m     59\u001b[0m iterable_with_config \u001b[38;5;241m=\u001b[39m (\n\u001b[0;32m     60\u001b[0m     (_with_config(delayed_func, config), args, kwargs)\n\u001b[0;32m     61\u001b[0m     \u001b[38;5;28;01mfor\u001b[39;00m delayed_func, args, kwargs \u001b[38;5;129;01min\u001b[39;00m iterable\n\u001b[0;32m     62\u001b[0m )\n\u001b[1;32m---> 63\u001b[0m \u001b[38;5;28;01mreturn\u001b[39;00m \u001b[38;5;28msuper\u001b[39m()\u001b[38;5;241m.\u001b[39m\u001b[38;5;21m__call__\u001b[39m(iterable_with_config)\n",
      "File \u001b[1;32m~\\anaconda3\\Lib\\site-packages\\joblib\\parallel.py:1088\u001b[0m, in \u001b[0;36mParallel.__call__\u001b[1;34m(self, iterable)\u001b[0m\n\u001b[0;32m   1085\u001b[0m \u001b[38;5;28;01mif\u001b[39;00m \u001b[38;5;28mself\u001b[39m\u001b[38;5;241m.\u001b[39mdispatch_one_batch(iterator):\n\u001b[0;32m   1086\u001b[0m     \u001b[38;5;28mself\u001b[39m\u001b[38;5;241m.\u001b[39m_iterating \u001b[38;5;241m=\u001b[39m \u001b[38;5;28mself\u001b[39m\u001b[38;5;241m.\u001b[39m_original_iterator \u001b[38;5;129;01mis\u001b[39;00m \u001b[38;5;129;01mnot\u001b[39;00m \u001b[38;5;28;01mNone\u001b[39;00m\n\u001b[1;32m-> 1088\u001b[0m \u001b[38;5;28;01mwhile\u001b[39;00m \u001b[38;5;28mself\u001b[39m\u001b[38;5;241m.\u001b[39mdispatch_one_batch(iterator):\n\u001b[0;32m   1089\u001b[0m     \u001b[38;5;28;01mpass\u001b[39;00m\n\u001b[0;32m   1091\u001b[0m \u001b[38;5;28;01mif\u001b[39;00m pre_dispatch \u001b[38;5;241m==\u001b[39m \u001b[38;5;124m\"\u001b[39m\u001b[38;5;124mall\u001b[39m\u001b[38;5;124m\"\u001b[39m \u001b[38;5;129;01mor\u001b[39;00m n_jobs \u001b[38;5;241m==\u001b[39m \u001b[38;5;241m1\u001b[39m:\n\u001b[0;32m   1092\u001b[0m     \u001b[38;5;66;03m# The iterable was consumed all at once by the above for loop.\u001b[39;00m\n\u001b[0;32m   1093\u001b[0m     \u001b[38;5;66;03m# No need to wait for async callbacks to trigger to\u001b[39;00m\n\u001b[0;32m   1094\u001b[0m     \u001b[38;5;66;03m# consumption.\u001b[39;00m\n",
      "File \u001b[1;32m~\\anaconda3\\Lib\\site-packages\\joblib\\parallel.py:901\u001b[0m, in \u001b[0;36mParallel.dispatch_one_batch\u001b[1;34m(self, iterator)\u001b[0m\n\u001b[0;32m    899\u001b[0m     \u001b[38;5;28;01mreturn\u001b[39;00m \u001b[38;5;28;01mFalse\u001b[39;00m\n\u001b[0;32m    900\u001b[0m \u001b[38;5;28;01melse\u001b[39;00m:\n\u001b[1;32m--> 901\u001b[0m     \u001b[38;5;28mself\u001b[39m\u001b[38;5;241m.\u001b[39m_dispatch(tasks)\n\u001b[0;32m    902\u001b[0m     \u001b[38;5;28;01mreturn\u001b[39;00m \u001b[38;5;28;01mTrue\u001b[39;00m\n",
      "File \u001b[1;32m~\\anaconda3\\Lib\\site-packages\\joblib\\parallel.py:819\u001b[0m, in \u001b[0;36mParallel._dispatch\u001b[1;34m(self, batch)\u001b[0m\n\u001b[0;32m    817\u001b[0m \u001b[38;5;28;01mwith\u001b[39;00m \u001b[38;5;28mself\u001b[39m\u001b[38;5;241m.\u001b[39m_lock:\n\u001b[0;32m    818\u001b[0m     job_idx \u001b[38;5;241m=\u001b[39m \u001b[38;5;28mlen\u001b[39m(\u001b[38;5;28mself\u001b[39m\u001b[38;5;241m.\u001b[39m_jobs)\n\u001b[1;32m--> 819\u001b[0m     job \u001b[38;5;241m=\u001b[39m \u001b[38;5;28mself\u001b[39m\u001b[38;5;241m.\u001b[39m_backend\u001b[38;5;241m.\u001b[39mapply_async(batch, callback\u001b[38;5;241m=\u001b[39mcb)\n\u001b[0;32m    820\u001b[0m     \u001b[38;5;66;03m# A job can complete so quickly than its callback is\u001b[39;00m\n\u001b[0;32m    821\u001b[0m     \u001b[38;5;66;03m# called before we get here, causing self._jobs to\u001b[39;00m\n\u001b[0;32m    822\u001b[0m     \u001b[38;5;66;03m# grow. To ensure correct results ordering, .insert is\u001b[39;00m\n\u001b[0;32m    823\u001b[0m     \u001b[38;5;66;03m# used (rather than .append) in the following line\u001b[39;00m\n\u001b[0;32m    824\u001b[0m     \u001b[38;5;28mself\u001b[39m\u001b[38;5;241m.\u001b[39m_jobs\u001b[38;5;241m.\u001b[39minsert(job_idx, job)\n",
      "File \u001b[1;32m~\\anaconda3\\Lib\\site-packages\\joblib\\_parallel_backends.py:208\u001b[0m, in \u001b[0;36mSequentialBackend.apply_async\u001b[1;34m(self, func, callback)\u001b[0m\n\u001b[0;32m    206\u001b[0m \u001b[38;5;28;01mdef\u001b[39;00m \u001b[38;5;21mapply_async\u001b[39m(\u001b[38;5;28mself\u001b[39m, func, callback\u001b[38;5;241m=\u001b[39m\u001b[38;5;28;01mNone\u001b[39;00m):\n\u001b[0;32m    207\u001b[0m \u001b[38;5;250m    \u001b[39m\u001b[38;5;124;03m\"\"\"Schedule a func to be run\"\"\"\u001b[39;00m\n\u001b[1;32m--> 208\u001b[0m     result \u001b[38;5;241m=\u001b[39m ImmediateResult(func)\n\u001b[0;32m    209\u001b[0m     \u001b[38;5;28;01mif\u001b[39;00m callback:\n\u001b[0;32m    210\u001b[0m         callback(result)\n",
      "File \u001b[1;32m~\\anaconda3\\Lib\\site-packages\\joblib\\_parallel_backends.py:597\u001b[0m, in \u001b[0;36mImmediateResult.__init__\u001b[1;34m(self, batch)\u001b[0m\n\u001b[0;32m    594\u001b[0m \u001b[38;5;28;01mdef\u001b[39;00m \u001b[38;5;21m__init__\u001b[39m(\u001b[38;5;28mself\u001b[39m, batch):\n\u001b[0;32m    595\u001b[0m     \u001b[38;5;66;03m# Don't delay the application, to avoid keeping the input\u001b[39;00m\n\u001b[0;32m    596\u001b[0m     \u001b[38;5;66;03m# arguments in memory\u001b[39;00m\n\u001b[1;32m--> 597\u001b[0m     \u001b[38;5;28mself\u001b[39m\u001b[38;5;241m.\u001b[39mresults \u001b[38;5;241m=\u001b[39m batch()\n",
      "File \u001b[1;32m~\\anaconda3\\Lib\\site-packages\\joblib\\parallel.py:288\u001b[0m, in \u001b[0;36mBatchedCalls.__call__\u001b[1;34m(self)\u001b[0m\n\u001b[0;32m    284\u001b[0m \u001b[38;5;28;01mdef\u001b[39;00m \u001b[38;5;21m__call__\u001b[39m(\u001b[38;5;28mself\u001b[39m):\n\u001b[0;32m    285\u001b[0m     \u001b[38;5;66;03m# Set the default nested backend to self._backend but do not set the\u001b[39;00m\n\u001b[0;32m    286\u001b[0m     \u001b[38;5;66;03m# change the default number of processes to -1\u001b[39;00m\n\u001b[0;32m    287\u001b[0m     \u001b[38;5;28;01mwith\u001b[39;00m parallel_backend(\u001b[38;5;28mself\u001b[39m\u001b[38;5;241m.\u001b[39m_backend, n_jobs\u001b[38;5;241m=\u001b[39m\u001b[38;5;28mself\u001b[39m\u001b[38;5;241m.\u001b[39m_n_jobs):\n\u001b[1;32m--> 288\u001b[0m         \u001b[38;5;28;01mreturn\u001b[39;00m [func(\u001b[38;5;241m*\u001b[39margs, \u001b[38;5;241m*\u001b[39m\u001b[38;5;241m*\u001b[39mkwargs)\n\u001b[0;32m    289\u001b[0m                 \u001b[38;5;28;01mfor\u001b[39;00m func, args, kwargs \u001b[38;5;129;01min\u001b[39;00m \u001b[38;5;28mself\u001b[39m\u001b[38;5;241m.\u001b[39mitems]\n",
      "File \u001b[1;32m~\\anaconda3\\Lib\\site-packages\\joblib\\parallel.py:288\u001b[0m, in \u001b[0;36m<listcomp>\u001b[1;34m(.0)\u001b[0m\n\u001b[0;32m    284\u001b[0m \u001b[38;5;28;01mdef\u001b[39;00m \u001b[38;5;21m__call__\u001b[39m(\u001b[38;5;28mself\u001b[39m):\n\u001b[0;32m    285\u001b[0m     \u001b[38;5;66;03m# Set the default nested backend to self._backend but do not set the\u001b[39;00m\n\u001b[0;32m    286\u001b[0m     \u001b[38;5;66;03m# change the default number of processes to -1\u001b[39;00m\n\u001b[0;32m    287\u001b[0m     \u001b[38;5;28;01mwith\u001b[39;00m parallel_backend(\u001b[38;5;28mself\u001b[39m\u001b[38;5;241m.\u001b[39m_backend, n_jobs\u001b[38;5;241m=\u001b[39m\u001b[38;5;28mself\u001b[39m\u001b[38;5;241m.\u001b[39m_n_jobs):\n\u001b[1;32m--> 288\u001b[0m         \u001b[38;5;28;01mreturn\u001b[39;00m [func(\u001b[38;5;241m*\u001b[39margs, \u001b[38;5;241m*\u001b[39m\u001b[38;5;241m*\u001b[39mkwargs)\n\u001b[0;32m    289\u001b[0m                 \u001b[38;5;28;01mfor\u001b[39;00m func, args, kwargs \u001b[38;5;129;01min\u001b[39;00m \u001b[38;5;28mself\u001b[39m\u001b[38;5;241m.\u001b[39mitems]\n",
      "File \u001b[1;32m~\\anaconda3\\Lib\\site-packages\\sklearn\\utils\\parallel.py:123\u001b[0m, in \u001b[0;36m_FuncWrapper.__call__\u001b[1;34m(self, *args, **kwargs)\u001b[0m\n\u001b[0;32m    121\u001b[0m     config \u001b[38;5;241m=\u001b[39m {}\n\u001b[0;32m    122\u001b[0m \u001b[38;5;28;01mwith\u001b[39;00m config_context(\u001b[38;5;241m*\u001b[39m\u001b[38;5;241m*\u001b[39mconfig):\n\u001b[1;32m--> 123\u001b[0m     \u001b[38;5;28;01mreturn\u001b[39;00m \u001b[38;5;28mself\u001b[39m\u001b[38;5;241m.\u001b[39mfunction(\u001b[38;5;241m*\u001b[39margs, \u001b[38;5;241m*\u001b[39m\u001b[38;5;241m*\u001b[39mkwargs)\n",
      "File \u001b[1;32m~\\anaconda3\\Lib\\site-packages\\sklearn\\model_selection\\_validation.py:686\u001b[0m, in \u001b[0;36m_fit_and_score\u001b[1;34m(estimator, X, y, scorer, train, test, verbose, parameters, fit_params, return_train_score, return_parameters, return_n_test_samples, return_times, return_estimator, split_progress, candidate_progress, error_score)\u001b[0m\n\u001b[0;32m    684\u001b[0m         estimator\u001b[38;5;241m.\u001b[39mfit(X_train, \u001b[38;5;241m*\u001b[39m\u001b[38;5;241m*\u001b[39mfit_params)\n\u001b[0;32m    685\u001b[0m     \u001b[38;5;28;01melse\u001b[39;00m:\n\u001b[1;32m--> 686\u001b[0m         estimator\u001b[38;5;241m.\u001b[39mfit(X_train, y_train, \u001b[38;5;241m*\u001b[39m\u001b[38;5;241m*\u001b[39mfit_params)\n\u001b[0;32m    688\u001b[0m \u001b[38;5;28;01mexcept\u001b[39;00m \u001b[38;5;167;01mException\u001b[39;00m:\n\u001b[0;32m    689\u001b[0m     \u001b[38;5;66;03m# Note fit time as time until error\u001b[39;00m\n\u001b[0;32m    690\u001b[0m     fit_time \u001b[38;5;241m=\u001b[39m time\u001b[38;5;241m.\u001b[39mtime() \u001b[38;5;241m-\u001b[39m start_time\n",
      "File \u001b[1;32m~\\anaconda3\\Lib\\site-packages\\sklearn\\ensemble\\_gb.py:538\u001b[0m, in \u001b[0;36mBaseGradientBoosting.fit\u001b[1;34m(self, X, y, sample_weight, monitor)\u001b[0m\n\u001b[0;32m    535\u001b[0m     \u001b[38;5;28mself\u001b[39m\u001b[38;5;241m.\u001b[39m_resize_state()\n\u001b[0;32m    537\u001b[0m \u001b[38;5;66;03m# fit the boosting stages\u001b[39;00m\n\u001b[1;32m--> 538\u001b[0m n_stages \u001b[38;5;241m=\u001b[39m \u001b[38;5;28mself\u001b[39m\u001b[38;5;241m.\u001b[39m_fit_stages(\n\u001b[0;32m    539\u001b[0m     X,\n\u001b[0;32m    540\u001b[0m     y,\n\u001b[0;32m    541\u001b[0m     raw_predictions,\n\u001b[0;32m    542\u001b[0m     sample_weight,\n\u001b[0;32m    543\u001b[0m     \u001b[38;5;28mself\u001b[39m\u001b[38;5;241m.\u001b[39m_rng,\n\u001b[0;32m    544\u001b[0m     X_val,\n\u001b[0;32m    545\u001b[0m     y_val,\n\u001b[0;32m    546\u001b[0m     sample_weight_val,\n\u001b[0;32m    547\u001b[0m     begin_at_stage,\n\u001b[0;32m    548\u001b[0m     monitor,\n\u001b[0;32m    549\u001b[0m )\n\u001b[0;32m    551\u001b[0m \u001b[38;5;66;03m# change shape of arrays after fit (early-stopping or additional ests)\u001b[39;00m\n\u001b[0;32m    552\u001b[0m \u001b[38;5;28;01mif\u001b[39;00m n_stages \u001b[38;5;241m!=\u001b[39m \u001b[38;5;28mself\u001b[39m\u001b[38;5;241m.\u001b[39mestimators_\u001b[38;5;241m.\u001b[39mshape[\u001b[38;5;241m0\u001b[39m]:\n",
      "File \u001b[1;32m~\\anaconda3\\Lib\\site-packages\\sklearn\\ensemble\\_gb.py:615\u001b[0m, in \u001b[0;36mBaseGradientBoosting._fit_stages\u001b[1;34m(self, X, y, raw_predictions, sample_weight, random_state, X_val, y_val, sample_weight_val, begin_at_stage, monitor)\u001b[0m\n\u001b[0;32m    608\u001b[0m     old_oob_score \u001b[38;5;241m=\u001b[39m loss_(\n\u001b[0;32m    609\u001b[0m         y[\u001b[38;5;241m~\u001b[39msample_mask],\n\u001b[0;32m    610\u001b[0m         raw_predictions[\u001b[38;5;241m~\u001b[39msample_mask],\n\u001b[0;32m    611\u001b[0m         sample_weight[\u001b[38;5;241m~\u001b[39msample_mask],\n\u001b[0;32m    612\u001b[0m     )\n\u001b[0;32m    614\u001b[0m \u001b[38;5;66;03m# fit next stage of trees\u001b[39;00m\n\u001b[1;32m--> 615\u001b[0m raw_predictions \u001b[38;5;241m=\u001b[39m \u001b[38;5;28mself\u001b[39m\u001b[38;5;241m.\u001b[39m_fit_stage(\n\u001b[0;32m    616\u001b[0m     i,\n\u001b[0;32m    617\u001b[0m     X,\n\u001b[0;32m    618\u001b[0m     y,\n\u001b[0;32m    619\u001b[0m     raw_predictions,\n\u001b[0;32m    620\u001b[0m     sample_weight,\n\u001b[0;32m    621\u001b[0m     sample_mask,\n\u001b[0;32m    622\u001b[0m     random_state,\n\u001b[0;32m    623\u001b[0m     X_csc,\n\u001b[0;32m    624\u001b[0m     X_csr,\n\u001b[0;32m    625\u001b[0m )\n\u001b[0;32m    627\u001b[0m \u001b[38;5;66;03m# track deviance (= loss)\u001b[39;00m\n\u001b[0;32m    628\u001b[0m \u001b[38;5;28;01mif\u001b[39;00m do_oob:\n",
      "File \u001b[1;32m~\\anaconda3\\Lib\\site-packages\\sklearn\\ensemble\\_gb.py:257\u001b[0m, in \u001b[0;36mBaseGradientBoosting._fit_stage\u001b[1;34m(self, i, X, y, raw_predictions, sample_weight, sample_mask, random_state, X_csc, X_csr)\u001b[0m\n\u001b[0;32m    254\u001b[0m     sample_weight \u001b[38;5;241m=\u001b[39m sample_weight \u001b[38;5;241m*\u001b[39m sample_mask\u001b[38;5;241m.\u001b[39mastype(np\u001b[38;5;241m.\u001b[39mfloat64)\n\u001b[0;32m    256\u001b[0m X \u001b[38;5;241m=\u001b[39m X_csr \u001b[38;5;28;01mif\u001b[39;00m X_csr \u001b[38;5;129;01mis\u001b[39;00m \u001b[38;5;129;01mnot\u001b[39;00m \u001b[38;5;28;01mNone\u001b[39;00m \u001b[38;5;28;01melse\u001b[39;00m X\n\u001b[1;32m--> 257\u001b[0m tree\u001b[38;5;241m.\u001b[39mfit(X, residual, sample_weight\u001b[38;5;241m=\u001b[39msample_weight, check_input\u001b[38;5;241m=\u001b[39m\u001b[38;5;28;01mFalse\u001b[39;00m)\n\u001b[0;32m    259\u001b[0m \u001b[38;5;66;03m# update tree leaves\u001b[39;00m\n\u001b[0;32m    260\u001b[0m loss\u001b[38;5;241m.\u001b[39mupdate_terminal_regions(\n\u001b[0;32m    261\u001b[0m     tree\u001b[38;5;241m.\u001b[39mtree_,\n\u001b[0;32m    262\u001b[0m     X,\n\u001b[1;32m   (...)\u001b[0m\n\u001b[0;32m    269\u001b[0m     k\u001b[38;5;241m=\u001b[39mk,\n\u001b[0;32m    270\u001b[0m )\n",
      "File \u001b[1;32m~\\anaconda3\\Lib\\site-packages\\sklearn\\tree\\_classes.py:1247\u001b[0m, in \u001b[0;36mDecisionTreeRegressor.fit\u001b[1;34m(self, X, y, sample_weight, check_input)\u001b[0m\n\u001b[0;32m   1218\u001b[0m \u001b[38;5;28;01mdef\u001b[39;00m \u001b[38;5;21mfit\u001b[39m(\u001b[38;5;28mself\u001b[39m, X, y, sample_weight\u001b[38;5;241m=\u001b[39m\u001b[38;5;28;01mNone\u001b[39;00m, check_input\u001b[38;5;241m=\u001b[39m\u001b[38;5;28;01mTrue\u001b[39;00m):\n\u001b[0;32m   1219\u001b[0m \u001b[38;5;250m    \u001b[39m\u001b[38;5;124;03m\"\"\"Build a decision tree regressor from the training set (X, y).\u001b[39;00m\n\u001b[0;32m   1220\u001b[0m \n\u001b[0;32m   1221\u001b[0m \u001b[38;5;124;03m    Parameters\u001b[39;00m\n\u001b[1;32m   (...)\u001b[0m\n\u001b[0;32m   1244\u001b[0m \u001b[38;5;124;03m        Fitted estimator.\u001b[39;00m\n\u001b[0;32m   1245\u001b[0m \u001b[38;5;124;03m    \"\"\"\u001b[39;00m\n\u001b[1;32m-> 1247\u001b[0m     \u001b[38;5;28msuper\u001b[39m()\u001b[38;5;241m.\u001b[39mfit(\n\u001b[0;32m   1248\u001b[0m         X,\n\u001b[0;32m   1249\u001b[0m         y,\n\u001b[0;32m   1250\u001b[0m         sample_weight\u001b[38;5;241m=\u001b[39msample_weight,\n\u001b[0;32m   1251\u001b[0m         check_input\u001b[38;5;241m=\u001b[39mcheck_input,\n\u001b[0;32m   1252\u001b[0m     )\n\u001b[0;32m   1253\u001b[0m     \u001b[38;5;28;01mreturn\u001b[39;00m \u001b[38;5;28mself\u001b[39m\n",
      "File \u001b[1;32m~\\anaconda3\\Lib\\site-packages\\sklearn\\tree\\_classes.py:379\u001b[0m, in \u001b[0;36mBaseDecisionTree.fit\u001b[1;34m(self, X, y, sample_weight, check_input)\u001b[0m\n\u001b[0;32m    368\u001b[0m \u001b[38;5;28;01melse\u001b[39;00m:\n\u001b[0;32m    369\u001b[0m     builder \u001b[38;5;241m=\u001b[39m BestFirstTreeBuilder(\n\u001b[0;32m    370\u001b[0m         splitter,\n\u001b[0;32m    371\u001b[0m         min_samples_split,\n\u001b[1;32m   (...)\u001b[0m\n\u001b[0;32m    376\u001b[0m         \u001b[38;5;28mself\u001b[39m\u001b[38;5;241m.\u001b[39mmin_impurity_decrease,\n\u001b[0;32m    377\u001b[0m     )\n\u001b[1;32m--> 379\u001b[0m builder\u001b[38;5;241m.\u001b[39mbuild(\u001b[38;5;28mself\u001b[39m\u001b[38;5;241m.\u001b[39mtree_, X, y, sample_weight)\n\u001b[0;32m    381\u001b[0m \u001b[38;5;28;01mif\u001b[39;00m \u001b[38;5;28mself\u001b[39m\u001b[38;5;241m.\u001b[39mn_outputs_ \u001b[38;5;241m==\u001b[39m \u001b[38;5;241m1\u001b[39m \u001b[38;5;129;01mand\u001b[39;00m is_classifier(\u001b[38;5;28mself\u001b[39m):\n\u001b[0;32m    382\u001b[0m     \u001b[38;5;28mself\u001b[39m\u001b[38;5;241m.\u001b[39mn_classes_ \u001b[38;5;241m=\u001b[39m \u001b[38;5;28mself\u001b[39m\u001b[38;5;241m.\u001b[39mn_classes_[\u001b[38;5;241m0\u001b[39m]\n",
      "\u001b[1;31mKeyboardInterrupt\u001b[0m: "
     ]
    }
   ],
   "source": [
    "boost_model = GradientBoostingClassifier(random_state=rs)\n",
    "\n",
    "boost_params = {\n",
    "    'n_estimators': [50],\n",
    "    'learning_rate': [0.01]\n",
    "}\n",
    "\n",
    "boost_model_cv = GridSearchCV(boost_model, param_grid=boost_params, cv=3)\n",
    "boost_model_cv.fit(X_train, y_train)\n",
    "print(boost_model_cv.best_estimator_)"
   ]
  },
  {
   "cell_type": "markdown",
   "metadata": {
    "id": "PkZWzRZD1R3C"
   },
   "source": [
    "<details>\n",
    "    <summary>Click here for Hints </summary>\n",
    "    \n",
    "For Example: you can call `RandomForestClassifier()` to define your model, don't forget to specify `max_depth= ..`  and `random_state=rs` in the parameters.\n"
   ]
  },
  {
   "cell_type": "markdown",
   "metadata": {
    "id": "NJL-F9_t1R3C"
   },
   "source": [
    "_TODO: Train your classification models with training data_\n"
   ]
  },
  {
   "cell_type": "code",
   "execution_count": 40,
   "metadata": {
    "id": "NN-83EYc1R3D"
   },
   "outputs": [
    {
     "data": {
      "text/html": [
       "<style>#sk-container-id-1 {color: black;background-color: white;}#sk-container-id-1 pre{padding: 0;}#sk-container-id-1 div.sk-toggleable {background-color: white;}#sk-container-id-1 label.sk-toggleable__label {cursor: pointer;display: block;width: 100%;margin-bottom: 0;padding: 0.3em;box-sizing: border-box;text-align: center;}#sk-container-id-1 label.sk-toggleable__label-arrow:before {content: \"▸\";float: left;margin-right: 0.25em;color: #696969;}#sk-container-id-1 label.sk-toggleable__label-arrow:hover:before {color: black;}#sk-container-id-1 div.sk-estimator:hover label.sk-toggleable__label-arrow:before {color: black;}#sk-container-id-1 div.sk-toggleable__content {max-height: 0;max-width: 0;overflow: hidden;text-align: left;background-color: #f0f8ff;}#sk-container-id-1 div.sk-toggleable__content pre {margin: 0.2em;color: black;border-radius: 0.25em;background-color: #f0f8ff;}#sk-container-id-1 input.sk-toggleable__control:checked~div.sk-toggleable__content {max-height: 200px;max-width: 100%;overflow: auto;}#sk-container-id-1 input.sk-toggleable__control:checked~label.sk-toggleable__label-arrow:before {content: \"▾\";}#sk-container-id-1 div.sk-estimator input.sk-toggleable__control:checked~label.sk-toggleable__label {background-color: #d4ebff;}#sk-container-id-1 div.sk-label input.sk-toggleable__control:checked~label.sk-toggleable__label {background-color: #d4ebff;}#sk-container-id-1 input.sk-hidden--visually {border: 0;clip: rect(1px 1px 1px 1px);clip: rect(1px, 1px, 1px, 1px);height: 1px;margin: -1px;overflow: hidden;padding: 0;position: absolute;width: 1px;}#sk-container-id-1 div.sk-estimator {font-family: monospace;background-color: #f0f8ff;border: 1px dotted black;border-radius: 0.25em;box-sizing: border-box;margin-bottom: 0.5em;}#sk-container-id-1 div.sk-estimator:hover {background-color: #d4ebff;}#sk-container-id-1 div.sk-parallel-item::after {content: \"\";width: 100%;border-bottom: 1px solid gray;flex-grow: 1;}#sk-container-id-1 div.sk-label:hover label.sk-toggleable__label {background-color: #d4ebff;}#sk-container-id-1 div.sk-serial::before {content: \"\";position: absolute;border-left: 1px solid gray;box-sizing: border-box;top: 0;bottom: 0;left: 50%;z-index: 0;}#sk-container-id-1 div.sk-serial {display: flex;flex-direction: column;align-items: center;background-color: white;padding-right: 0.2em;padding-left: 0.2em;position: relative;}#sk-container-id-1 div.sk-item {position: relative;z-index: 1;}#sk-container-id-1 div.sk-parallel {display: flex;align-items: stretch;justify-content: center;background-color: white;position: relative;}#sk-container-id-1 div.sk-item::before, #sk-container-id-1 div.sk-parallel-item::before {content: \"\";position: absolute;border-left: 1px solid gray;box-sizing: border-box;top: 0;bottom: 0;left: 50%;z-index: -1;}#sk-container-id-1 div.sk-parallel-item {display: flex;flex-direction: column;z-index: 1;position: relative;background-color: white;}#sk-container-id-1 div.sk-parallel-item:first-child::after {align-self: flex-end;width: 50%;}#sk-container-id-1 div.sk-parallel-item:last-child::after {align-self: flex-start;width: 50%;}#sk-container-id-1 div.sk-parallel-item:only-child::after {width: 0;}#sk-container-id-1 div.sk-dashed-wrapped {border: 1px dashed gray;margin: 0 0.4em 0.5em 0.4em;box-sizing: border-box;padding-bottom: 0.4em;background-color: white;}#sk-container-id-1 div.sk-label label {font-family: monospace;font-weight: bold;display: inline-block;line-height: 1.2em;}#sk-container-id-1 div.sk-label-container {text-align: center;}#sk-container-id-1 div.sk-container {/* jupyter's `normalize.less` sets `[hidden] { display: none; }` but bootstrap.min.css set `[hidden] { display: none !important; }` so we also need the `!important` here to be able to override the default hidden behavior on the sphinx rendered scikit-learn.org. See: https://github.com/scikit-learn/scikit-learn/issues/21755 */display: inline-block !important;position: relative;}#sk-container-id-1 div.sk-text-repr-fallback {display: none;}</style><div id=\"sk-container-id-1\" class=\"sk-top-container\"><div class=\"sk-text-repr-fallback\"><pre>BaggingClassifier(max_samples=0.5, random_state=123)</pre><b>In a Jupyter environment, please rerun this cell to show the HTML representation or trust the notebook. <br />On GitHub, the HTML representation is unable to render, please try loading this page with nbviewer.org.</b></div><div class=\"sk-container\" hidden><div class=\"sk-item\"><div class=\"sk-estimator sk-toggleable\"><input class=\"sk-toggleable__control sk-hidden--visually\" id=\"sk-estimator-id-1\" type=\"checkbox\" checked><label for=\"sk-estimator-id-1\" class=\"sk-toggleable__label sk-toggleable__label-arrow\">BaggingClassifier</label><div class=\"sk-toggleable__content\"><pre>BaggingClassifier(max_samples=0.5, random_state=123)</pre></div></div></div></div></div>"
      ],
      "text/plain": [
       "BaggingClassifier(max_samples=0.5, random_state=123)"
      ]
     },
     "execution_count": 40,
     "metadata": {},
     "output_type": "execute_result"
    }
   ],
   "source": [
    "### WRITE YOUR CODE HERE\n",
    "### You may need to tune the hyperparameters of the models\n",
    "lr_model = LogisticRegression(penalty='l1', random_state=123, solver='liblinear')\n",
    "rf_model = RandomForestClassifier(max_depth=10, n_estimators=50, random_state=rs)\n",
    "#svm_model = SVC(C=1, random_state=rs)\n",
    "bagging_model = BaggingClassifier(max_samples=0.5, random_state=rs)\n",
    "#boosting_model = GradientBoostingClassifier(learning_rate=0.01, n_estimators=50, random_state=rs)\n",
    "\n",
    "\n",
    "lr_model.fit(X_train, y_train)\n",
    "rf_model.fit(X_train, y_train)\n",
    "#svm_model.fit(X_train, y_train)\n",
    "bagging_model.fit(X_train, y_train)\n",
    "#boosting_model.fit(X_train, y_train)\n",
    "\n"
   ]
  },
  {
   "cell_type": "markdown",
   "metadata": {
    "id": "sEW3CATW1R3D"
   },
   "source": [
    "<details>\n",
    "    <summary>Click here for Hints</summary>\n",
    "    \n",
    "You can call `model.fit()` method with `X_train, y_train` parameters.\n"
   ]
  },
  {
   "cell_type": "markdown",
   "metadata": {
    "id": "bM-uTzy51R3D"
   },
   "source": [
    "_TODO: Evaluate your classification models_\n"
   ]
  },
  {
   "cell_type": "code",
   "execution_count": 42,
   "metadata": {
    "id": "uaWC56Vg1R3D"
   },
   "outputs": [],
   "source": [
    "### WRITE YOUR CODE HERE\n",
    "\n",
    "### The main evaluation metrics could be accuracy, recall, precision, F score, and AUC.\n",
    "\n",
    "lr_pred = lr_model.predict(X_test)\n",
    "rf_pred = rf_model.predict(X_test)\n",
    "#svm_pred = svm_model.predict(X_test)\n",
    "bagging_pred = bagging_model.predict(X_test)\n",
    "#boosting_pred = boosting_model.predict(X_test)\n",
    "\n",
    "def calculate_metrics(y_true, y_pred):\n",
    "    accuracy = accuracy_score(y_true, y_pred)\n",
    "    precision, recall, fscore, _ = precision_recall_fscore_support(y_true, y_pred, average='weighted')\n",
    "    mse = mean_squared_error(y_true, y_pred)\n",
    "    rmse = np.sqrt(mse)\n",
    "\n",
    "    return accuracy, precision, recall, fscore, mse, rmse\n",
    "\n",
    "# Calculate metrics for each model\n",
    "score_lr = calculate_metrics(y_test, lr_pred)\n",
    "score_rf = calculate_metrics(y_test, rf_pred)\n",
    "#score_svm = calculate_metrics(y_test, svm_pred)\n",
    "score_bagging = calculate_metrics(y_test, bagging_pred)\n",
    "#score_boosting = calculate_metrics(y_test, boosting_pred)\n"
   ]
  },
  {
   "cell_type": "code",
   "execution_count": 44,
   "metadata": {
    "id": "MSChS1us1R3E"
   },
   "outputs": [
    {
     "data": {
      "text/html": [
       "<div>\n",
       "<style scoped>\n",
       "    .dataframe tbody tr th:only-of-type {\n",
       "        vertical-align: middle;\n",
       "    }\n",
       "\n",
       "    .dataframe tbody tr th {\n",
       "        vertical-align: top;\n",
       "    }\n",
       "\n",
       "    .dataframe thead th {\n",
       "        text-align: right;\n",
       "    }\n",
       "</style>\n",
       "<table border=\"1\" class=\"dataframe\">\n",
       "  <thead>\n",
       "    <tr style=\"text-align: right;\">\n",
       "      <th></th>\n",
       "      <th>Model</th>\n",
       "      <th>Accuracy</th>\n",
       "      <th>Precision</th>\n",
       "      <th>Recall</th>\n",
       "      <th>F-score</th>\n",
       "      <th>MSE</th>\n",
       "      <th>RMSE</th>\n",
       "    </tr>\n",
       "  </thead>\n",
       "  <tbody>\n",
       "    <tr>\n",
       "      <th>0</th>\n",
       "      <td>Logistic Regression</td>\n",
       "      <td>0.334126</td>\n",
       "      <td>0.334961</td>\n",
       "      <td>0.334126</td>\n",
       "      <td>0.324852</td>\n",
       "      <td>1.394304</td>\n",
       "      <td>1.180806</td>\n",
       "    </tr>\n",
       "    <tr>\n",
       "      <th>1</th>\n",
       "      <td>Random Forest</td>\n",
       "      <td>0.336698</td>\n",
       "      <td>0.337924</td>\n",
       "      <td>0.336698</td>\n",
       "      <td>0.328792</td>\n",
       "      <td>1.373409</td>\n",
       "      <td>1.171925</td>\n",
       "    </tr>\n",
       "    <tr>\n",
       "      <th>2</th>\n",
       "      <td>Bagging</td>\n",
       "      <td>0.337255</td>\n",
       "      <td>0.337399</td>\n",
       "      <td>0.337255</td>\n",
       "      <td>0.335706</td>\n",
       "      <td>1.321932</td>\n",
       "      <td>1.149753</td>\n",
       "    </tr>\n",
       "  </tbody>\n",
       "</table>\n",
       "</div>"
      ],
      "text/plain": [
       "                 Model  Accuracy  Precision    Recall   F-score       MSE  \\\n",
       "0  Logistic Regression  0.334126   0.334961  0.334126  0.324852  1.394304   \n",
       "1        Random Forest  0.336698   0.337924  0.336698  0.328792  1.373409   \n",
       "2              Bagging  0.337255   0.337399  0.337255  0.335706  1.321932   \n",
       "\n",
       "       RMSE  \n",
       "0  1.180806  \n",
       "1  1.171925  \n",
       "2  1.149753  "
      ]
     },
     "execution_count": 44,
     "metadata": {},
     "output_type": "execute_result"
    }
   ],
   "source": [
    "# Create a dictionary to store the results\n",
    "score = {\n",
    "    'Model': ['Logistic Regression', 'Random Forest', 'Bagging'],\n",
    "    'Accuracy': [score_lr[0], score_rf[0], score_bagging[0]],\n",
    "    'Precision': [score_lr[1], score_rf[1],  score_bagging[1]],\n",
    "    'Recall': [score_lr[2], score_rf[2],  score_bagging[2]],\n",
    "    'F-score': [score_lr[3], score_rf[3],  score_bagging[3]],\n",
    "    'MSE': [score_lr[4], score_rf[4],  score_bagging[4]],\n",
    "    'RMSE': [score_lr[5], score_rf[5], score_bagging[5]]\n",
    "}\n",
    "\n",
    "# Convert the dictionary into a DataFrame\n",
    "results_df = pd.DataFrame(score)\n",
    "results_df\n"
   ]
  },
  {
   "cell_type": "markdown",
   "metadata": {
    "id": "pZ46STYt1R3E"
   },
   "source": [
    "<details>\n",
    "    <summary>Click here for Hints</summary>\n",
    "    \n",
    "You can call `model.predict()` method with `X_test` parameter to get model predictions. Then use `accuracy_score()` with `y_test, your_predictions` parameters to calculate the accuracy value.\n",
    "* You can use `precision_recall_fscore_support` command  with `y_test, your_predictions, average='binary'` parameters get recall, precision and F score.\n",
    "    \n"
   ]
  },
  {
   "cell_type": "markdown",
   "metadata": {
    "id": "lfWMhDwt1R3E"
   },
   "source": [
    "### Summary\n"
   ]
  },
  {
   "cell_type": "markdown",
   "metadata": {
    "id": "pkXB2thj1R3E"
   },
   "source": [
    "In this lab, you have built and evaluated various classification models to predict categorical course rating modes using the embedding feature vectors extracted from neural networks.\n"
   ]
  },
  {
   "cell_type": "markdown",
   "metadata": {
    "id": "XEfW9c8G1R3F"
   },
   "source": [
    "## Authors\n"
   ]
  },
  {
   "cell_type": "markdown",
   "metadata": {
    "id": "MvO-4eza1R3F"
   },
   "source": [
    "[Yan Luo](https://www.linkedin.com/in/yan-luo-96288783/)\n"
   ]
  },
  {
   "cell_type": "markdown",
   "metadata": {
    "id": "GFZEzsck1R3F"
   },
   "source": [
    "### Other Contributors\n"
   ]
  },
  {
   "cell_type": "markdown",
   "metadata": {
    "id": "oqmm4cO81R3F"
   },
   "source": [
    "```toggle## Change Log\n",
    "```\n"
   ]
  },
  {
   "cell_type": "markdown",
   "metadata": {
    "id": "eEVysdHV1R3F"
   },
   "source": [
    "```toggle|Date (YYYY-MM-DD)|Version|Changed By|Change Description|\n",
    "```\n",
    "```toggle|-|-|-|-|\n",
    "```\n",
    "```toggle|2021-10-25|1.0|Yan|Created the initial version|\n",
    "```\n"
   ]
  },
  {
   "cell_type": "markdown",
   "metadata": {
    "id": "3SeiBcDe1R3F"
   },
   "source": [
    "Copyright © 2021 IBM Corporation. All rights reserved.\n"
   ]
  }
 ],
 "metadata": {
  "accelerator": "GPU",
  "colab": {
   "gpuType": "T4",
   "provenance": []
  },
  "kernelspec": {
   "display_name": "Python 3 (ipykernel)",
   "language": "python",
   "name": "python3"
  },
  "language_info": {
   "codemirror_mode": {
    "name": "ipython",
    "version": 3
   },
   "file_extension": ".py",
   "mimetype": "text/x-python",
   "name": "python",
   "nbconvert_exporter": "python",
   "pygments_lexer": "ipython3",
   "version": "3.11.7"
  },
  "prev_pub_hash": "7710e8f9242ac13ac28383d0661dad72ee16ef475255d9cb9142fe4931f3f2a9"
 },
 "nbformat": 4,
 "nbformat_minor": 1
}
